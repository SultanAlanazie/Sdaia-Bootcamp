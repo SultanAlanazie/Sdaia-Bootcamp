{
  "cells": [
    {
      "cell_type": "markdown",
      "id": "9ae4cc02",
      "metadata": {
        "id": "9ae4cc02"
      },
      "source": [
        "# Ensemble Methods Notebook\n",
        "Welcome to the weekly project on Ensemble Methods. You will be working with a dataset of traffic jams.\n",
        "\n",
        "## Dataset\n",
        "The dataset that will be used in this task is `Traffic_Jam.csv`\n",
        "\n",
        "## Instructions\n",
        "- Follow the steps outlined below.\n",
        "- Write your code in the empty code cells.\n",
        "- Comment on your code to explain your reasoning.\n",
        "\n",
        "## Dataset Overview\n",
        "This dataset contains traffic data including various counts of vehicle types across different times and days. Below are samples of these columns:\n",
        "\n",
        "* `Time`: The timestamp of the traffic count (in intervals).\n",
        "* `Date`: The day of the month the data was recorded.\n",
        "* `Day of the Week`: The day of the week for the recorded data.\n",
        "* `CarCount`: The number of cars counted during the time interval.\n",
        "* `BikeCount`: The number of bikes counted during the time interval.\n",
        "* `BusCount`: The number of buses counted during the time interval.\n",
        "* `TruckCount`: The number of trucks counted during the time interval.\n",
        "* `Total`: Total vehicles counted during the time interval.\n",
        "* `Traffic Situation`: Qualitative assessment of the traffic (e.g., normal, congested).\n",
        "\n",
        "## Goal\n",
        "The primary goal of this exam is to develop a predictive model capable of determining the `Traffic Situation` based on your choice of features provided in the dataset. Students are expected to apply ensemble methods to build and evaluate their models."
      ]
    },
    {
      "cell_type": "markdown",
      "id": "0243f5f9",
      "metadata": {
        "id": "0243f5f9"
      },
      "source": [
        "# Import Libraries"
      ]
    },
    {
      "cell_type": "code",
      "execution_count": 263,
      "id": "cd906704",
      "metadata": {
        "id": "cd906704"
      },
      "outputs": [],
      "source": [
        "import pandas as pd\n",
        "import numpy as np\n",
        "import matplotlib.pyplot as plt\n",
        "import seaborn as sns\n",
        "from sklearn.preprocessing import StandardScaler, LabelEncoder, MinMaxScaler, OneHotEncoder\n",
        "from sklearn.model_selection import train_test_split\n",
        "from sklearn.ensemble import RandomForestClassifier, BaggingClassifier, StackingClassifier\n",
        "from sklearn.neighbors import KNeighborsClassifier\n",
        "from sklearn.tree import DecisionTreeClassifier\n",
        "from xgboost import XGBClassifier\n",
        "from sklearn.linear_model import LogisticRegression\n",
        "from sklearn.metrics import accuracy_score, classification_report, confusion_matrix\n"
      ]
    },
    {
      "cell_type": "markdown",
      "id": "3bc0f20e",
      "metadata": {
        "id": "3bc0f20e"
      },
      "source": [
        "# Load the dataset\n"
      ]
    },
    {
      "cell_type": "code",
      "execution_count": 264,
      "id": "47ecb305",
      "metadata": {
        "id": "47ecb305",
        "colab": {
          "base_uri": "https://localhost:8080/",
          "height": 206
        },
        "outputId": "1a7a3351-9b7d-4d20-bd00-ed2a200191ec"
      },
      "outputs": [
        {
          "output_type": "execute_result",
          "data": {
            "text/plain": [
              "          Time  Date Day of the week  CarCount  BikeCount  BusCount  \\\n",
              "0  12:00:00 AM    10         Tuesday        13          2         2   \n",
              "1  12:15:00 AM    10         Tuesday        14          1         1   \n",
              "2  12:30:00 AM    10         Tuesday        10          2         2   \n",
              "3  12:45:00 AM    10         Tuesday        10          2         2   \n",
              "4   1:00:00 AM    10         Tuesday        11          2         1   \n",
              "\n",
              "   TruckCount  Total Traffic Situation  \n",
              "0          24     41            normal  \n",
              "1          36     52            normal  \n",
              "2          32     46            normal  \n",
              "3          36     50            normal  \n",
              "4          34     48            normal  "
            ],
            "text/html": [
              "\n",
              "  <div id=\"df-fae89db2-e3ce-4889-90bf-203cf189d9e0\" class=\"colab-df-container\">\n",
              "    <div>\n",
              "<style scoped>\n",
              "    .dataframe tbody tr th:only-of-type {\n",
              "        vertical-align: middle;\n",
              "    }\n",
              "\n",
              "    .dataframe tbody tr th {\n",
              "        vertical-align: top;\n",
              "    }\n",
              "\n",
              "    .dataframe thead th {\n",
              "        text-align: right;\n",
              "    }\n",
              "</style>\n",
              "<table border=\"1\" class=\"dataframe\">\n",
              "  <thead>\n",
              "    <tr style=\"text-align: right;\">\n",
              "      <th></th>\n",
              "      <th>Time</th>\n",
              "      <th>Date</th>\n",
              "      <th>Day of the week</th>\n",
              "      <th>CarCount</th>\n",
              "      <th>BikeCount</th>\n",
              "      <th>BusCount</th>\n",
              "      <th>TruckCount</th>\n",
              "      <th>Total</th>\n",
              "      <th>Traffic Situation</th>\n",
              "    </tr>\n",
              "  </thead>\n",
              "  <tbody>\n",
              "    <tr>\n",
              "      <th>0</th>\n",
              "      <td>12:00:00 AM</td>\n",
              "      <td>10</td>\n",
              "      <td>Tuesday</td>\n",
              "      <td>13</td>\n",
              "      <td>2</td>\n",
              "      <td>2</td>\n",
              "      <td>24</td>\n",
              "      <td>41</td>\n",
              "      <td>normal</td>\n",
              "    </tr>\n",
              "    <tr>\n",
              "      <th>1</th>\n",
              "      <td>12:15:00 AM</td>\n",
              "      <td>10</td>\n",
              "      <td>Tuesday</td>\n",
              "      <td>14</td>\n",
              "      <td>1</td>\n",
              "      <td>1</td>\n",
              "      <td>36</td>\n",
              "      <td>52</td>\n",
              "      <td>normal</td>\n",
              "    </tr>\n",
              "    <tr>\n",
              "      <th>2</th>\n",
              "      <td>12:30:00 AM</td>\n",
              "      <td>10</td>\n",
              "      <td>Tuesday</td>\n",
              "      <td>10</td>\n",
              "      <td>2</td>\n",
              "      <td>2</td>\n",
              "      <td>32</td>\n",
              "      <td>46</td>\n",
              "      <td>normal</td>\n",
              "    </tr>\n",
              "    <tr>\n",
              "      <th>3</th>\n",
              "      <td>12:45:00 AM</td>\n",
              "      <td>10</td>\n",
              "      <td>Tuesday</td>\n",
              "      <td>10</td>\n",
              "      <td>2</td>\n",
              "      <td>2</td>\n",
              "      <td>36</td>\n",
              "      <td>50</td>\n",
              "      <td>normal</td>\n",
              "    </tr>\n",
              "    <tr>\n",
              "      <th>4</th>\n",
              "      <td>1:00:00 AM</td>\n",
              "      <td>10</td>\n",
              "      <td>Tuesday</td>\n",
              "      <td>11</td>\n",
              "      <td>2</td>\n",
              "      <td>1</td>\n",
              "      <td>34</td>\n",
              "      <td>48</td>\n",
              "      <td>normal</td>\n",
              "    </tr>\n",
              "  </tbody>\n",
              "</table>\n",
              "</div>\n",
              "    <div class=\"colab-df-buttons\">\n",
              "\n",
              "  <div class=\"colab-df-container\">\n",
              "    <button class=\"colab-df-convert\" onclick=\"convertToInteractive('df-fae89db2-e3ce-4889-90bf-203cf189d9e0')\"\n",
              "            title=\"Convert this dataframe to an interactive table.\"\n",
              "            style=\"display:none;\">\n",
              "\n",
              "  <svg xmlns=\"http://www.w3.org/2000/svg\" height=\"24px\" viewBox=\"0 -960 960 960\">\n",
              "    <path d=\"M120-120v-720h720v720H120Zm60-500h600v-160H180v160Zm220 220h160v-160H400v160Zm0 220h160v-160H400v160ZM180-400h160v-160H180v160Zm440 0h160v-160H620v160ZM180-180h160v-160H180v160Zm440 0h160v-160H620v160Z\"/>\n",
              "  </svg>\n",
              "    </button>\n",
              "\n",
              "  <style>\n",
              "    .colab-df-container {\n",
              "      display:flex;\n",
              "      gap: 12px;\n",
              "    }\n",
              "\n",
              "    .colab-df-convert {\n",
              "      background-color: #E8F0FE;\n",
              "      border: none;\n",
              "      border-radius: 50%;\n",
              "      cursor: pointer;\n",
              "      display: none;\n",
              "      fill: #1967D2;\n",
              "      height: 32px;\n",
              "      padding: 0 0 0 0;\n",
              "      width: 32px;\n",
              "    }\n",
              "\n",
              "    .colab-df-convert:hover {\n",
              "      background-color: #E2EBFA;\n",
              "      box-shadow: 0px 1px 2px rgba(60, 64, 67, 0.3), 0px 1px 3px 1px rgba(60, 64, 67, 0.15);\n",
              "      fill: #174EA6;\n",
              "    }\n",
              "\n",
              "    .colab-df-buttons div {\n",
              "      margin-bottom: 4px;\n",
              "    }\n",
              "\n",
              "    [theme=dark] .colab-df-convert {\n",
              "      background-color: #3B4455;\n",
              "      fill: #D2E3FC;\n",
              "    }\n",
              "\n",
              "    [theme=dark] .colab-df-convert:hover {\n",
              "      background-color: #434B5C;\n",
              "      box-shadow: 0px 1px 3px 1px rgba(0, 0, 0, 0.15);\n",
              "      filter: drop-shadow(0px 1px 2px rgba(0, 0, 0, 0.3));\n",
              "      fill: #FFFFFF;\n",
              "    }\n",
              "  </style>\n",
              "\n",
              "    <script>\n",
              "      const buttonEl =\n",
              "        document.querySelector('#df-fae89db2-e3ce-4889-90bf-203cf189d9e0 button.colab-df-convert');\n",
              "      buttonEl.style.display =\n",
              "        google.colab.kernel.accessAllowed ? 'block' : 'none';\n",
              "\n",
              "      async function convertToInteractive(key) {\n",
              "        const element = document.querySelector('#df-fae89db2-e3ce-4889-90bf-203cf189d9e0');\n",
              "        const dataTable =\n",
              "          await google.colab.kernel.invokeFunction('convertToInteractive',\n",
              "                                                    [key], {});\n",
              "        if (!dataTable) return;\n",
              "\n",
              "        const docLinkHtml = 'Like what you see? Visit the ' +\n",
              "          '<a target=\"_blank\" href=https://colab.research.google.com/notebooks/data_table.ipynb>data table notebook</a>'\n",
              "          + ' to learn more about interactive tables.';\n",
              "        element.innerHTML = '';\n",
              "        dataTable['output_type'] = 'display_data';\n",
              "        await google.colab.output.renderOutput(dataTable, element);\n",
              "        const docLink = document.createElement('div');\n",
              "        docLink.innerHTML = docLinkHtml;\n",
              "        element.appendChild(docLink);\n",
              "      }\n",
              "    </script>\n",
              "  </div>\n",
              "\n",
              "\n",
              "<div id=\"df-27db7391-3a27-4a47-90b5-22bc613034e9\">\n",
              "  <button class=\"colab-df-quickchart\" onclick=\"quickchart('df-27db7391-3a27-4a47-90b5-22bc613034e9')\"\n",
              "            title=\"Suggest charts\"\n",
              "            style=\"display:none;\">\n",
              "\n",
              "<svg xmlns=\"http://www.w3.org/2000/svg\" height=\"24px\"viewBox=\"0 0 24 24\"\n",
              "     width=\"24px\">\n",
              "    <g>\n",
              "        <path d=\"M19 3H5c-1.1 0-2 .9-2 2v14c0 1.1.9 2 2 2h14c1.1 0 2-.9 2-2V5c0-1.1-.9-2-2-2zM9 17H7v-7h2v7zm4 0h-2V7h2v10zm4 0h-2v-4h2v4z\"/>\n",
              "    </g>\n",
              "</svg>\n",
              "  </button>\n",
              "\n",
              "<style>\n",
              "  .colab-df-quickchart {\n",
              "      --bg-color: #E8F0FE;\n",
              "      --fill-color: #1967D2;\n",
              "      --hover-bg-color: #E2EBFA;\n",
              "      --hover-fill-color: #174EA6;\n",
              "      --disabled-fill-color: #AAA;\n",
              "      --disabled-bg-color: #DDD;\n",
              "  }\n",
              "\n",
              "  [theme=dark] .colab-df-quickchart {\n",
              "      --bg-color: #3B4455;\n",
              "      --fill-color: #D2E3FC;\n",
              "      --hover-bg-color: #434B5C;\n",
              "      --hover-fill-color: #FFFFFF;\n",
              "      --disabled-bg-color: #3B4455;\n",
              "      --disabled-fill-color: #666;\n",
              "  }\n",
              "\n",
              "  .colab-df-quickchart {\n",
              "    background-color: var(--bg-color);\n",
              "    border: none;\n",
              "    border-radius: 50%;\n",
              "    cursor: pointer;\n",
              "    display: none;\n",
              "    fill: var(--fill-color);\n",
              "    height: 32px;\n",
              "    padding: 0;\n",
              "    width: 32px;\n",
              "  }\n",
              "\n",
              "  .colab-df-quickchart:hover {\n",
              "    background-color: var(--hover-bg-color);\n",
              "    box-shadow: 0 1px 2px rgba(60, 64, 67, 0.3), 0 1px 3px 1px rgba(60, 64, 67, 0.15);\n",
              "    fill: var(--button-hover-fill-color);\n",
              "  }\n",
              "\n",
              "  .colab-df-quickchart-complete:disabled,\n",
              "  .colab-df-quickchart-complete:disabled:hover {\n",
              "    background-color: var(--disabled-bg-color);\n",
              "    fill: var(--disabled-fill-color);\n",
              "    box-shadow: none;\n",
              "  }\n",
              "\n",
              "  .colab-df-spinner {\n",
              "    border: 2px solid var(--fill-color);\n",
              "    border-color: transparent;\n",
              "    border-bottom-color: var(--fill-color);\n",
              "    animation:\n",
              "      spin 1s steps(1) infinite;\n",
              "  }\n",
              "\n",
              "  @keyframes spin {\n",
              "    0% {\n",
              "      border-color: transparent;\n",
              "      border-bottom-color: var(--fill-color);\n",
              "      border-left-color: var(--fill-color);\n",
              "    }\n",
              "    20% {\n",
              "      border-color: transparent;\n",
              "      border-left-color: var(--fill-color);\n",
              "      border-top-color: var(--fill-color);\n",
              "    }\n",
              "    30% {\n",
              "      border-color: transparent;\n",
              "      border-left-color: var(--fill-color);\n",
              "      border-top-color: var(--fill-color);\n",
              "      border-right-color: var(--fill-color);\n",
              "    }\n",
              "    40% {\n",
              "      border-color: transparent;\n",
              "      border-right-color: var(--fill-color);\n",
              "      border-top-color: var(--fill-color);\n",
              "    }\n",
              "    60% {\n",
              "      border-color: transparent;\n",
              "      border-right-color: var(--fill-color);\n",
              "    }\n",
              "    80% {\n",
              "      border-color: transparent;\n",
              "      border-right-color: var(--fill-color);\n",
              "      border-bottom-color: var(--fill-color);\n",
              "    }\n",
              "    90% {\n",
              "      border-color: transparent;\n",
              "      border-bottom-color: var(--fill-color);\n",
              "    }\n",
              "  }\n",
              "</style>\n",
              "\n",
              "  <script>\n",
              "    async function quickchart(key) {\n",
              "      const quickchartButtonEl =\n",
              "        document.querySelector('#' + key + ' button');\n",
              "      quickchartButtonEl.disabled = true;  // To prevent multiple clicks.\n",
              "      quickchartButtonEl.classList.add('colab-df-spinner');\n",
              "      try {\n",
              "        const charts = await google.colab.kernel.invokeFunction(\n",
              "            'suggestCharts', [key], {});\n",
              "      } catch (error) {\n",
              "        console.error('Error during call to suggestCharts:', error);\n",
              "      }\n",
              "      quickchartButtonEl.classList.remove('colab-df-spinner');\n",
              "      quickchartButtonEl.classList.add('colab-df-quickchart-complete');\n",
              "    }\n",
              "    (() => {\n",
              "      let quickchartButtonEl =\n",
              "        document.querySelector('#df-27db7391-3a27-4a47-90b5-22bc613034e9 button');\n",
              "      quickchartButtonEl.style.display =\n",
              "        google.colab.kernel.accessAllowed ? 'block' : 'none';\n",
              "    })();\n",
              "  </script>\n",
              "</div>\n",
              "\n",
              "    </div>\n",
              "  </div>\n"
            ],
            "application/vnd.google.colaboratory.intrinsic+json": {
              "type": "dataframe",
              "variable_name": "df",
              "summary": "{\n  \"name\": \"df\",\n  \"rows\": 6324,\n  \"fields\": [\n    {\n      \"column\": \"Time\",\n      \"properties\": {\n        \"dtype\": \"object\",\n        \"num_unique_values\": 96,\n        \"samples\": [\n          \"8:00:00 PM\",\n          \"7:15:00 PM\",\n          \"6:15:00 PM\"\n        ],\n        \"semantic_type\": \"\",\n        \"description\": \"\"\n      }\n    },\n    {\n      \"column\": \"Date\",\n      \"properties\": {\n        \"dtype\": \"number\",\n        \"std\": 8,\n        \"min\": 1,\n        \"max\": 31,\n        \"num_unique_values\": 31,\n        \"samples\": [\n          6,\n          25,\n          2\n        ],\n        \"semantic_type\": \"\",\n        \"description\": \"\"\n      }\n    },\n    {\n      \"column\": \"Day of the week\",\n      \"properties\": {\n        \"dtype\": \"category\",\n        \"num_unique_values\": 7,\n        \"samples\": [\n          \"Tuesday\",\n          \"Wednesday\",\n          \"Sunday\"\n        ],\n        \"semantic_type\": \"\",\n        \"description\": \"\"\n      }\n    },\n    {\n      \"column\": \"CarCount\",\n      \"properties\": {\n        \"dtype\": \"number\",\n        \"std\": 44,\n        \"min\": 5,\n        \"max\": 180,\n        \"num_unique_values\": 173,\n        \"samples\": [\n          166,\n          63,\n          146\n        ],\n        \"semantic_type\": \"\",\n        \"description\": \"\"\n      }\n    },\n    {\n      \"column\": \"BikeCount\",\n      \"properties\": {\n        \"dtype\": \"number\",\n        \"std\": 11,\n        \"min\": 0,\n        \"max\": 70,\n        \"num_unique_values\": 71,\n        \"samples\": [\n          29,\n          2,\n          48\n        ],\n        \"semantic_type\": \"\",\n        \"description\": \"\"\n      }\n    },\n    {\n      \"column\": \"BusCount\",\n      \"properties\": {\n        \"dtype\": \"number\",\n        \"std\": 12,\n        \"min\": 0,\n        \"max\": 50,\n        \"num_unique_values\": 51,\n        \"samples\": [\n          46,\n          36,\n          50\n        ],\n        \"semantic_type\": \"\",\n        \"description\": \"\"\n      }\n    },\n    {\n      \"column\": \"TruckCount\",\n      \"properties\": {\n        \"dtype\": \"number\",\n        \"std\": 10,\n        \"min\": 0,\n        \"max\": 60,\n        \"num_unique_values\": 59,\n        \"samples\": [\n          24,\n          27,\n          7\n        ],\n        \"semantic_type\": \"\",\n        \"description\": \"\"\n      }\n    },\n    {\n      \"column\": \"Total\",\n      \"properties\": {\n        \"dtype\": \"number\",\n        \"std\": 55,\n        \"min\": 21,\n        \"max\": 279,\n        \"num_unique_values\": 239,\n        \"samples\": [\n          166,\n          45,\n          79\n        ],\n        \"semantic_type\": \"\",\n        \"description\": \"\"\n      }\n    },\n    {\n      \"column\": \"Traffic Situation\",\n      \"properties\": {\n        \"dtype\": \"category\",\n        \"num_unique_values\": 4,\n        \"samples\": [\n          \"low\",\n          \"high\",\n          \"normal\"\n        ],\n        \"semantic_type\": \"\",\n        \"description\": \"\"\n      }\n    }\n  ]\n}"
            }
          },
          "metadata": {},
          "execution_count": 264
        }
      ],
      "source": [
        "df = pd.read_csv(\"Traffic_Jams.csv\")\n",
        "df.head()"
      ]
    },
    {
      "cell_type": "markdown",
      "id": "41f23906",
      "metadata": {
        "id": "41f23906"
      },
      "source": [
        "# Exploratory Data Analysis (EDA)\n",
        "\n",
        "Below are some steps and visualizations to perform EDA on the dataset:\n",
        "\n",
        "1. **Summary Statistics**: Obtain summary statistics for the dataset to understand the central tendencies and dispersion of numerical features.describe()\n",
        "\n",
        "2. **Distribution of the Target Variable**: Analyze the distribution of the target variable `Traffic Situation` to understand the class balance.\n",
        "\n",
        "3. **Correlation Analysis**: Analyze correlations between features."
      ]
    },
    {
      "cell_type": "code",
      "execution_count": 265,
      "id": "140e99fb",
      "metadata": {
        "id": "140e99fb",
        "colab": {
          "base_uri": "https://localhost:8080/"
        },
        "outputId": "1ad00718-dfec-44ae-e3cb-732442aa0d30"
      },
      "outputs": [
        {
          "output_type": "stream",
          "name": "stdout",
          "text": [
            "<class 'pandas.core.frame.DataFrame'>\n",
            "RangeIndex: 6324 entries, 0 to 6323\n",
            "Data columns (total 9 columns):\n",
            " #   Column             Non-Null Count  Dtype \n",
            "---  ------             --------------  ----- \n",
            " 0   Time               6324 non-null   object\n",
            " 1   Date               6324 non-null   int64 \n",
            " 2   Day of the week    6324 non-null   object\n",
            " 3   CarCount           6324 non-null   int64 \n",
            " 4   BikeCount          6324 non-null   int64 \n",
            " 5   BusCount           6324 non-null   int64 \n",
            " 6   TruckCount         6324 non-null   int64 \n",
            " 7   Total              6324 non-null   int64 \n",
            " 8   Traffic Situation  6324 non-null   object\n",
            "dtypes: int64(6), object(3)\n",
            "memory usage: 444.8+ KB\n"
          ]
        }
      ],
      "source": [
        "df.info()"
      ]
    },
    {
      "cell_type": "code",
      "source": [
        "df.describe()"
      ],
      "metadata": {
        "colab": {
          "base_uri": "https://localhost:8080/",
          "height": 300
        },
        "id": "5OcN5TsMDuc2",
        "outputId": "84f4b48e-b9eb-4915-c9ca-b10b54295aca"
      },
      "id": "5OcN5TsMDuc2",
      "execution_count": 266,
      "outputs": [
        {
          "output_type": "execute_result",
          "data": {
            "text/plain": [
              "              Date     CarCount    BikeCount     BusCount   TruckCount  \\\n",
              "count  6324.000000  6324.000000  6324.000000  6324.000000  6324.000000   \n",
              "mean     16.043327    64.355629    12.013283    12.557875    18.658128   \n",
              "std       8.956907    44.307088    11.363955    12.319831    10.724822   \n",
              "min       1.000000     5.000000     0.000000     0.000000     0.000000   \n",
              "25%       8.000000    18.000000     3.000000     1.000000    10.000000   \n",
              "50%      16.000000    61.000000     9.000000    10.000000    18.000000   \n",
              "75%      24.000000   101.250000    19.000000    20.000000    27.000000   \n",
              "max      31.000000   180.000000    70.000000    50.000000    60.000000   \n",
              "\n",
              "             Total  \n",
              "count  6324.000000  \n",
              "mean    107.584915  \n",
              "std      55.850784  \n",
              "min      21.000000  \n",
              "25%      53.000000  \n",
              "50%     103.000000  \n",
              "75%     151.000000  \n",
              "max     279.000000  "
            ],
            "text/html": [
              "\n",
              "  <div id=\"df-0bdcb83f-fa83-48e4-940e-60d12aaa86d8\" class=\"colab-df-container\">\n",
              "    <div>\n",
              "<style scoped>\n",
              "    .dataframe tbody tr th:only-of-type {\n",
              "        vertical-align: middle;\n",
              "    }\n",
              "\n",
              "    .dataframe tbody tr th {\n",
              "        vertical-align: top;\n",
              "    }\n",
              "\n",
              "    .dataframe thead th {\n",
              "        text-align: right;\n",
              "    }\n",
              "</style>\n",
              "<table border=\"1\" class=\"dataframe\">\n",
              "  <thead>\n",
              "    <tr style=\"text-align: right;\">\n",
              "      <th></th>\n",
              "      <th>Date</th>\n",
              "      <th>CarCount</th>\n",
              "      <th>BikeCount</th>\n",
              "      <th>BusCount</th>\n",
              "      <th>TruckCount</th>\n",
              "      <th>Total</th>\n",
              "    </tr>\n",
              "  </thead>\n",
              "  <tbody>\n",
              "    <tr>\n",
              "      <th>count</th>\n",
              "      <td>6324.000000</td>\n",
              "      <td>6324.000000</td>\n",
              "      <td>6324.000000</td>\n",
              "      <td>6324.000000</td>\n",
              "      <td>6324.000000</td>\n",
              "      <td>6324.000000</td>\n",
              "    </tr>\n",
              "    <tr>\n",
              "      <th>mean</th>\n",
              "      <td>16.043327</td>\n",
              "      <td>64.355629</td>\n",
              "      <td>12.013283</td>\n",
              "      <td>12.557875</td>\n",
              "      <td>18.658128</td>\n",
              "      <td>107.584915</td>\n",
              "    </tr>\n",
              "    <tr>\n",
              "      <th>std</th>\n",
              "      <td>8.956907</td>\n",
              "      <td>44.307088</td>\n",
              "      <td>11.363955</td>\n",
              "      <td>12.319831</td>\n",
              "      <td>10.724822</td>\n",
              "      <td>55.850784</td>\n",
              "    </tr>\n",
              "    <tr>\n",
              "      <th>min</th>\n",
              "      <td>1.000000</td>\n",
              "      <td>5.000000</td>\n",
              "      <td>0.000000</td>\n",
              "      <td>0.000000</td>\n",
              "      <td>0.000000</td>\n",
              "      <td>21.000000</td>\n",
              "    </tr>\n",
              "    <tr>\n",
              "      <th>25%</th>\n",
              "      <td>8.000000</td>\n",
              "      <td>18.000000</td>\n",
              "      <td>3.000000</td>\n",
              "      <td>1.000000</td>\n",
              "      <td>10.000000</td>\n",
              "      <td>53.000000</td>\n",
              "    </tr>\n",
              "    <tr>\n",
              "      <th>50%</th>\n",
              "      <td>16.000000</td>\n",
              "      <td>61.000000</td>\n",
              "      <td>9.000000</td>\n",
              "      <td>10.000000</td>\n",
              "      <td>18.000000</td>\n",
              "      <td>103.000000</td>\n",
              "    </tr>\n",
              "    <tr>\n",
              "      <th>75%</th>\n",
              "      <td>24.000000</td>\n",
              "      <td>101.250000</td>\n",
              "      <td>19.000000</td>\n",
              "      <td>20.000000</td>\n",
              "      <td>27.000000</td>\n",
              "      <td>151.000000</td>\n",
              "    </tr>\n",
              "    <tr>\n",
              "      <th>max</th>\n",
              "      <td>31.000000</td>\n",
              "      <td>180.000000</td>\n",
              "      <td>70.000000</td>\n",
              "      <td>50.000000</td>\n",
              "      <td>60.000000</td>\n",
              "      <td>279.000000</td>\n",
              "    </tr>\n",
              "  </tbody>\n",
              "</table>\n",
              "</div>\n",
              "    <div class=\"colab-df-buttons\">\n",
              "\n",
              "  <div class=\"colab-df-container\">\n",
              "    <button class=\"colab-df-convert\" onclick=\"convertToInteractive('df-0bdcb83f-fa83-48e4-940e-60d12aaa86d8')\"\n",
              "            title=\"Convert this dataframe to an interactive table.\"\n",
              "            style=\"display:none;\">\n",
              "\n",
              "  <svg xmlns=\"http://www.w3.org/2000/svg\" height=\"24px\" viewBox=\"0 -960 960 960\">\n",
              "    <path d=\"M120-120v-720h720v720H120Zm60-500h600v-160H180v160Zm220 220h160v-160H400v160Zm0 220h160v-160H400v160ZM180-400h160v-160H180v160Zm440 0h160v-160H620v160ZM180-180h160v-160H180v160Zm440 0h160v-160H620v160Z\"/>\n",
              "  </svg>\n",
              "    </button>\n",
              "\n",
              "  <style>\n",
              "    .colab-df-container {\n",
              "      display:flex;\n",
              "      gap: 12px;\n",
              "    }\n",
              "\n",
              "    .colab-df-convert {\n",
              "      background-color: #E8F0FE;\n",
              "      border: none;\n",
              "      border-radius: 50%;\n",
              "      cursor: pointer;\n",
              "      display: none;\n",
              "      fill: #1967D2;\n",
              "      height: 32px;\n",
              "      padding: 0 0 0 0;\n",
              "      width: 32px;\n",
              "    }\n",
              "\n",
              "    .colab-df-convert:hover {\n",
              "      background-color: #E2EBFA;\n",
              "      box-shadow: 0px 1px 2px rgba(60, 64, 67, 0.3), 0px 1px 3px 1px rgba(60, 64, 67, 0.15);\n",
              "      fill: #174EA6;\n",
              "    }\n",
              "\n",
              "    .colab-df-buttons div {\n",
              "      margin-bottom: 4px;\n",
              "    }\n",
              "\n",
              "    [theme=dark] .colab-df-convert {\n",
              "      background-color: #3B4455;\n",
              "      fill: #D2E3FC;\n",
              "    }\n",
              "\n",
              "    [theme=dark] .colab-df-convert:hover {\n",
              "      background-color: #434B5C;\n",
              "      box-shadow: 0px 1px 3px 1px rgba(0, 0, 0, 0.15);\n",
              "      filter: drop-shadow(0px 1px 2px rgba(0, 0, 0, 0.3));\n",
              "      fill: #FFFFFF;\n",
              "    }\n",
              "  </style>\n",
              "\n",
              "    <script>\n",
              "      const buttonEl =\n",
              "        document.querySelector('#df-0bdcb83f-fa83-48e4-940e-60d12aaa86d8 button.colab-df-convert');\n",
              "      buttonEl.style.display =\n",
              "        google.colab.kernel.accessAllowed ? 'block' : 'none';\n",
              "\n",
              "      async function convertToInteractive(key) {\n",
              "        const element = document.querySelector('#df-0bdcb83f-fa83-48e4-940e-60d12aaa86d8');\n",
              "        const dataTable =\n",
              "          await google.colab.kernel.invokeFunction('convertToInteractive',\n",
              "                                                    [key], {});\n",
              "        if (!dataTable) return;\n",
              "\n",
              "        const docLinkHtml = 'Like what you see? Visit the ' +\n",
              "          '<a target=\"_blank\" href=https://colab.research.google.com/notebooks/data_table.ipynb>data table notebook</a>'\n",
              "          + ' to learn more about interactive tables.';\n",
              "        element.innerHTML = '';\n",
              "        dataTable['output_type'] = 'display_data';\n",
              "        await google.colab.output.renderOutput(dataTable, element);\n",
              "        const docLink = document.createElement('div');\n",
              "        docLink.innerHTML = docLinkHtml;\n",
              "        element.appendChild(docLink);\n",
              "      }\n",
              "    </script>\n",
              "  </div>\n",
              "\n",
              "\n",
              "<div id=\"df-efdbb134-a463-49c6-b7ec-a263a252a677\">\n",
              "  <button class=\"colab-df-quickchart\" onclick=\"quickchart('df-efdbb134-a463-49c6-b7ec-a263a252a677')\"\n",
              "            title=\"Suggest charts\"\n",
              "            style=\"display:none;\">\n",
              "\n",
              "<svg xmlns=\"http://www.w3.org/2000/svg\" height=\"24px\"viewBox=\"0 0 24 24\"\n",
              "     width=\"24px\">\n",
              "    <g>\n",
              "        <path d=\"M19 3H5c-1.1 0-2 .9-2 2v14c0 1.1.9 2 2 2h14c1.1 0 2-.9 2-2V5c0-1.1-.9-2-2-2zM9 17H7v-7h2v7zm4 0h-2V7h2v10zm4 0h-2v-4h2v4z\"/>\n",
              "    </g>\n",
              "</svg>\n",
              "  </button>\n",
              "\n",
              "<style>\n",
              "  .colab-df-quickchart {\n",
              "      --bg-color: #E8F0FE;\n",
              "      --fill-color: #1967D2;\n",
              "      --hover-bg-color: #E2EBFA;\n",
              "      --hover-fill-color: #174EA6;\n",
              "      --disabled-fill-color: #AAA;\n",
              "      --disabled-bg-color: #DDD;\n",
              "  }\n",
              "\n",
              "  [theme=dark] .colab-df-quickchart {\n",
              "      --bg-color: #3B4455;\n",
              "      --fill-color: #D2E3FC;\n",
              "      --hover-bg-color: #434B5C;\n",
              "      --hover-fill-color: #FFFFFF;\n",
              "      --disabled-bg-color: #3B4455;\n",
              "      --disabled-fill-color: #666;\n",
              "  }\n",
              "\n",
              "  .colab-df-quickchart {\n",
              "    background-color: var(--bg-color);\n",
              "    border: none;\n",
              "    border-radius: 50%;\n",
              "    cursor: pointer;\n",
              "    display: none;\n",
              "    fill: var(--fill-color);\n",
              "    height: 32px;\n",
              "    padding: 0;\n",
              "    width: 32px;\n",
              "  }\n",
              "\n",
              "  .colab-df-quickchart:hover {\n",
              "    background-color: var(--hover-bg-color);\n",
              "    box-shadow: 0 1px 2px rgba(60, 64, 67, 0.3), 0 1px 3px 1px rgba(60, 64, 67, 0.15);\n",
              "    fill: var(--button-hover-fill-color);\n",
              "  }\n",
              "\n",
              "  .colab-df-quickchart-complete:disabled,\n",
              "  .colab-df-quickchart-complete:disabled:hover {\n",
              "    background-color: var(--disabled-bg-color);\n",
              "    fill: var(--disabled-fill-color);\n",
              "    box-shadow: none;\n",
              "  }\n",
              "\n",
              "  .colab-df-spinner {\n",
              "    border: 2px solid var(--fill-color);\n",
              "    border-color: transparent;\n",
              "    border-bottom-color: var(--fill-color);\n",
              "    animation:\n",
              "      spin 1s steps(1) infinite;\n",
              "  }\n",
              "\n",
              "  @keyframes spin {\n",
              "    0% {\n",
              "      border-color: transparent;\n",
              "      border-bottom-color: var(--fill-color);\n",
              "      border-left-color: var(--fill-color);\n",
              "    }\n",
              "    20% {\n",
              "      border-color: transparent;\n",
              "      border-left-color: var(--fill-color);\n",
              "      border-top-color: var(--fill-color);\n",
              "    }\n",
              "    30% {\n",
              "      border-color: transparent;\n",
              "      border-left-color: var(--fill-color);\n",
              "      border-top-color: var(--fill-color);\n",
              "      border-right-color: var(--fill-color);\n",
              "    }\n",
              "    40% {\n",
              "      border-color: transparent;\n",
              "      border-right-color: var(--fill-color);\n",
              "      border-top-color: var(--fill-color);\n",
              "    }\n",
              "    60% {\n",
              "      border-color: transparent;\n",
              "      border-right-color: var(--fill-color);\n",
              "    }\n",
              "    80% {\n",
              "      border-color: transparent;\n",
              "      border-right-color: var(--fill-color);\n",
              "      border-bottom-color: var(--fill-color);\n",
              "    }\n",
              "    90% {\n",
              "      border-color: transparent;\n",
              "      border-bottom-color: var(--fill-color);\n",
              "    }\n",
              "  }\n",
              "</style>\n",
              "\n",
              "  <script>\n",
              "    async function quickchart(key) {\n",
              "      const quickchartButtonEl =\n",
              "        document.querySelector('#' + key + ' button');\n",
              "      quickchartButtonEl.disabled = true;  // To prevent multiple clicks.\n",
              "      quickchartButtonEl.classList.add('colab-df-spinner');\n",
              "      try {\n",
              "        const charts = await google.colab.kernel.invokeFunction(\n",
              "            'suggestCharts', [key], {});\n",
              "      } catch (error) {\n",
              "        console.error('Error during call to suggestCharts:', error);\n",
              "      }\n",
              "      quickchartButtonEl.classList.remove('colab-df-spinner');\n",
              "      quickchartButtonEl.classList.add('colab-df-quickchart-complete');\n",
              "    }\n",
              "    (() => {\n",
              "      let quickchartButtonEl =\n",
              "        document.querySelector('#df-efdbb134-a463-49c6-b7ec-a263a252a677 button');\n",
              "      quickchartButtonEl.style.display =\n",
              "        google.colab.kernel.accessAllowed ? 'block' : 'none';\n",
              "    })();\n",
              "  </script>\n",
              "</div>\n",
              "\n",
              "    </div>\n",
              "  </div>\n"
            ],
            "application/vnd.google.colaboratory.intrinsic+json": {
              "type": "dataframe",
              "summary": "{\n  \"name\": \"df\",\n  \"rows\": 8,\n  \"fields\": [\n    {\n      \"column\": \"Date\",\n      \"properties\": {\n        \"dtype\": \"number\",\n        \"std\": 2230.588202815896,\n        \"min\": 1.0,\n        \"max\": 6324.0,\n        \"num_unique_values\": 8,\n        \"samples\": [\n          16.043327008222644,\n          16.0,\n          6324.0\n        ],\n        \"semantic_type\": \"\",\n        \"description\": \"\"\n      }\n    },\n    {\n      \"column\": \"CarCount\",\n      \"properties\": {\n        \"dtype\": \"number\",\n        \"std\": 2212.605127902,\n        \"min\": 5.0,\n        \"max\": 6324.0,\n        \"num_unique_values\": 8,\n        \"samples\": [\n          64.3556293485136,\n          61.0,\n          6324.0\n        ],\n        \"semantic_type\": \"\",\n        \"description\": \"\"\n      }\n    },\n    {\n      \"column\": \"BikeCount\",\n      \"properties\": {\n        \"dtype\": \"number\",\n        \"std\": 2229.6990294489124,\n        \"min\": 0.0,\n        \"max\": 6324.0,\n        \"num_unique_values\": 8,\n        \"samples\": [\n          12.013282732447818,\n          9.0,\n          6324.0\n        ],\n        \"semantic_type\": \"\",\n        \"description\": \"\"\n      }\n    },\n    {\n      \"column\": \"BusCount\",\n      \"properties\": {\n        \"dtype\": \"number\",\n        \"std\": 2230.578738618608,\n        \"min\": 0.0,\n        \"max\": 6324.0,\n        \"num_unique_values\": 8,\n        \"samples\": [\n          12.55787476280835,\n          10.0,\n          6324.0\n        ],\n        \"semantic_type\": \"\",\n        \"description\": \"\"\n      }\n    },\n    {\n      \"column\": \"TruckCount\",\n      \"properties\": {\n        \"dtype\": \"number\",\n        \"std\": 2228.6509340081143,\n        \"min\": 0.0,\n        \"max\": 6324.0,\n        \"num_unique_values\": 8,\n        \"samples\": [\n          18.658127767235925,\n          18.0,\n          6324.0\n        ],\n        \"semantic_type\": \"\",\n        \"description\": \"\"\n      }\n    },\n    {\n      \"column\": \"Total\",\n      \"properties\": {\n        \"dtype\": \"number\",\n        \"std\": 2198.401808755119,\n        \"min\": 21.0,\n        \"max\": 6324.0,\n        \"num_unique_values\": 8,\n        \"samples\": [\n          107.58491461100569,\n          103.0,\n          6324.0\n        ],\n        \"semantic_type\": \"\",\n        \"description\": \"\"\n      }\n    }\n  ]\n}"
            }
          },
          "metadata": {},
          "execution_count": 266
        }
      ]
    },
    {
      "cell_type": "code",
      "source": [
        "by_carcount = df.groupby('CarCount')['Traffic Situation']\n",
        "sns.barplot(x='CarCount', y='Traffic Situation', data=df)\n",
        "plt.show()"
      ],
      "metadata": {
        "colab": {
          "base_uri": "https://localhost:8080/",
          "height": 449
        },
        "id": "bTuwARp-HGbj",
        "outputId": "0b23d253-886f-4d35-a73e-3393897beb4c"
      },
      "id": "bTuwARp-HGbj",
      "execution_count": 267,
      "outputs": [
        {
          "output_type": "display_data",
          "data": {
            "text/plain": [
              "<Figure size 640x480 with 1 Axes>"
            ],
            "image/png": "[encoded data removed]"
          },
          "metadata": {}
        }
      ]
    },
    {
      "cell_type": "code",
      "source": [
        "corr = df.select_dtypes(include=['number']).corr()\n",
        "print(corr)"
      ],
      "metadata": {
        "colab": {
          "base_uri": "https://localhost:8080/"
        },
        "id": "WKYZ8_VFEJT4",
        "outputId": "e5d9eff2-8e10-4ae6-9212-cb90ac53dc2d"
      },
      "id": "WKYZ8_VFEJT4",
      "execution_count": 268,
      "outputs": [
        {
          "output_type": "stream",
          "name": "stdout",
          "text": [
            "                Date  CarCount  BikeCount  BusCount  TruckCount     Total\n",
            "Date        1.000000 -0.010507  -0.001985 -0.006166    0.021137 -0.006041\n",
            "CarCount   -0.010507  1.000000   0.705941  0.664491   -0.583984  0.971386\n",
            "BikeCount  -0.001985  0.705941   1.000000  0.581289   -0.585670  0.779261\n",
            "BusCount   -0.006166  0.664491   0.581289  1.000000   -0.533847  0.763496\n",
            "TruckCount  0.021137 -0.583984  -0.585670 -0.533847    1.000000 -0.508179\n",
            "Total      -0.006041  0.971386   0.779261  0.763496   -0.508179  1.000000\n"
          ]
        }
      ]
    },
    {
      "cell_type": "markdown",
      "id": "c0e69164",
      "metadata": {
        "id": "c0e69164"
      },
      "source": [
        "# Preprocess the data (if necessary)\n",
        "\n",
        "Before building models, it's crucial to preprocess the data to ensure it's clean and suitable for training. Follow these steps to prepare the dataset:\n",
        "\n",
        "1. **Check for Missing Values**: Determine if there are any missing values in the dataset and handle them appropriately. You can choose to fill them with a mean, median, or mode value, or drop rows with missing values if necessary.\n",
        "\n",
        "2. **Encode Categorical Variables**: Convert categorical variables into numerical representations. This can be done using techniques such as one-hot encoding and lable-encoder.\n",
        "\n",
        "3. **Feature Scaling**: Standardize or Normalize numerical features if needed to have a consistent scale.\n",
        "\n",
        "4. **Remove Unnecessary Columns**: Drop any columns that are not relevant for modeling."
      ]
    },
    {
      "cell_type": "code",
      "source": [
        "df.isna().sum()"
      ],
      "metadata": {
        "colab": {
          "base_uri": "https://localhost:8080/",
          "height": 366
        },
        "id": "qaxvYWZoF38M",
        "outputId": "8f70936d-29eb-46cd-b0ad-a1ed3d56c96d"
      },
      "id": "qaxvYWZoF38M",
      "execution_count": 269,
      "outputs": [
        {
          "output_type": "execute_result",
          "data": {
            "text/plain": [
              "Time                 0\n",
              "Date                 0\n",
              "Day of the week      0\n",
              "CarCount             0\n",
              "BikeCount            0\n",
              "BusCount             0\n",
              "TruckCount           0\n",
              "Total                0\n",
              "Traffic Situation    0\n",
              "dtype: int64"
            ],
            "text/html": [
              "<div>\n",
              "<style scoped>\n",
              "    .dataframe tbody tr th:only-of-type {\n",
              "        vertical-align: middle;\n",
              "    }\n",
              "\n",
              "    .dataframe tbody tr th {\n",
              "        vertical-align: top;\n",
              "    }\n",
              "\n",
              "    .dataframe thead th {\n",
              "        text-align: right;\n",
              "    }\n",
              "</style>\n",
              "<table border=\"1\" class=\"dataframe\">\n",
              "  <thead>\n",
              "    <tr style=\"text-align: right;\">\n",
              "      <th></th>\n",
              "      <th>0</th>\n",
              "    </tr>\n",
              "  </thead>\n",
              "  <tbody>\n",
              "    <tr>\n",
              "      <th>Time</th>\n",
              "      <td>0</td>\n",
              "    </tr>\n",
              "    <tr>\n",
              "      <th>Date</th>\n",
              "      <td>0</td>\n",
              "    </tr>\n",
              "    <tr>\n",
              "      <th>Day of the week</th>\n",
              "      <td>0</td>\n",
              "    </tr>\n",
              "    <tr>\n",
              "      <th>CarCount</th>\n",
              "      <td>0</td>\n",
              "    </tr>\n",
              "    <tr>\n",
              "      <th>BikeCount</th>\n",
              "      <td>0</td>\n",
              "    </tr>\n",
              "    <tr>\n",
              "      <th>BusCount</th>\n",
              "      <td>0</td>\n",
              "    </tr>\n",
              "    <tr>\n",
              "      <th>TruckCount</th>\n",
              "      <td>0</td>\n",
              "    </tr>\n",
              "    <tr>\n",
              "      <th>Total</th>\n",
              "      <td>0</td>\n",
              "    </tr>\n",
              "    <tr>\n",
              "      <th>Traffic Situation</th>\n",
              "      <td>0</td>\n",
              "    </tr>\n",
              "  </tbody>\n",
              "</table>\n",
              "</div><br><label><b>dtype:</b> int64</label>"
            ]
          },
          "metadata": {},
          "execution_count": 269
        }
      ]
    },
    {
      "cell_type": "code",
      "source": [
        "for col in df.columns:\n",
        "  if df[col].dtypes == 'object':\n",
        "    print(df[col].name)\n",
        "    print(df[col].unique())"
      ],
      "metadata": {
        "colab": {
          "base_uri": "https://localhost:8080/"
        },
        "id": "abwi9AxhGmWH",
        "outputId": "f0ddf93e-a1f4-4af7-835e-8a8fa1469c9c"
      },
      "id": "abwi9AxhGmWH",
      "execution_count": 270,
      "outputs": [
        {
          "output_type": "stream",
          "name": "stdout",
          "text": [
            "Time\n",
            "['12:00:00 AM' '12:15:00 AM' '12:30:00 AM' '12:45:00 AM' '1:00:00 AM'\n",
            " '1:15:00 AM' '1:30:00 AM' '1:45:00 AM' '2:00:00 AM' '2:15:00 AM'\n",
            " '2:30:00 AM' '2:45:00 AM' '3:00:00 AM' '3:15:00 AM' '3:30:00 AM'\n",
            " '3:45:00 AM' '4:00:00 AM' '4:15:00 AM' '4:30:00 AM' '4:45:00 AM'\n",
            " '5:00:00 AM' '5:15:00 AM' '5:30:00 AM' '5:45:00 AM' '6:00:00 AM'\n",
            " '6:15:00 AM' '6:30:00 AM' '6:45:00 AM' '7:00:00 AM' '7:15:00 AM'\n",
            " '7:30:00 AM' '7:45:00 AM' '8:00:00 AM' '8:15:00 AM' '8:30:00 AM'\n",
            " '8:45:00 AM' '9:00:00 AM' '9:15:00 AM' '9:30:00 AM' '9:45:00 AM'\n",
            " '10:00:00 AM' '10:15:00 AM' '10:30:00 AM' '10:45:00 AM' '11:00:00 AM'\n",
            " '11:15:00 AM' '11:30:00 AM' '11:45:00 AM' '12:00:00 PM' '12:15:00 PM'\n",
            " '12:30:00 PM' '12:45:00 PM' '1:00:00 PM' '1:15:00 PM' '1:30:00 PM'\n",
            " '1:45:00 PM' '2:00:00 PM' '2:15:00 PM' '2:30:00 PM' '2:45:00 PM'\n",
            " '3:00:00 PM' '3:15:00 PM' '3:30:00 PM' '3:45:00 PM' '4:00:00 PM'\n",
            " '4:15:00 PM' '4:30:00 PM' '4:45:00 PM' '5:00:00 PM' '5:15:00 PM'\n",
            " '5:30:00 PM' '5:45:00 PM' '6:00:00 PM' '6:15:00 PM' '6:30:00 PM'\n",
            " '6:45:00 PM' '7:00:00 PM' '7:15:00 PM' '7:30:00 PM' '7:45:00 PM'\n",
            " '8:00:00 PM' '8:15:00 PM' '8:30:00 PM' '8:45:00 PM' '9:00:00 PM'\n",
            " '9:15:00 PM' '9:30:00 PM' '9:45:00 PM' '10:00:00 PM' '10:15:00 PM'\n",
            " '10:30:00 PM' '10:45:00 PM' '11:00:00 PM' '11:15:00 PM' '11:30:00 PM'\n",
            " '11:45:00 PM']\n",
            "Day of the week\n",
            "['Tuesday' 'Wednesday' 'Thursday' 'Friday' 'Saturday' 'Sunday' 'Monday']\n",
            "Traffic Situation\n",
            "['normal' 'low' 'heavy' 'high']\n"
          ]
        }
      ]
    },
    {
      "cell_type": "code",
      "source": [
        "label_encoder = LabelEncoder()\n",
        "df['Traffic Situation'] = label_encoder.fit_transform(df[['Traffic Situation']])"
      ],
      "metadata": {
        "colab": {
          "base_uri": "https://localhost:8080/"
        },
        "id": "Z8zelncMQant",
        "outputId": "d5a00532-4e23-4634-d88f-b8c72dc9bc35"
      },
      "id": "Z8zelncMQant",
      "execution_count": 271,
      "outputs": [
        {
          "output_type": "stream",
          "name": "stderr",
          "text": [
            "/usr/local/lib/python3.10/dist-packages/sklearn/preprocessing/_label.py:114: DataConversionWarning: A column-vector y was passed when a 1d array was expected. Please change the shape of y to (n_samples, ), for example using ravel().\n",
            "  y = column_or_1d(y, warn=True)\n"
          ]
        }
      ]
    },
    {
      "cell_type": "code",
      "source": [
        "one_hot = OneHotEncoder(sparse_output=False)\n",
        "categorical_one_hot = one_hot.fit_transform(df[['Day of the week']])\n",
        "categorical_one_hot = pd.DataFrame(categorical_one_hot, columns=one_hot.get_feature_names_out(['Day of the week']))\n",
        "df_encoded = pd.concat([df, categorical_one_hot], axis=1)\n",
        "df_encoded.drop(['Day of the week','Time'], axis=1, inplace=True)"
      ],
      "metadata": {
        "id": "hOLEWfmvGzwR"
      },
      "id": "hOLEWfmvGzwR",
      "execution_count": 253,
      "outputs": []
    },
    {
      "cell_type": "code",
      "source": [
        "minmax = MinMaxScaler()\n",
        "data = df_encoded.copy()\n",
        "data = data.drop('Traffic Situation', axis=1)\n",
        "target = df_encoded['Traffic Situation']"
      ],
      "metadata": {
        "id": "sGNrVY5YKVPz"
      },
      "id": "sGNrVY5YKVPz",
      "execution_count": 305,
      "outputs": []
    },
    {
      "cell_type": "code",
      "source": [
        "scaled_data = minmax.fit_transform(data)\n",
        "scaled_data = pd.DataFrame(scaled_data, columns=data.columns)"
      ],
      "metadata": {
        "id": "XikOXFD_YQBL"
      },
      "id": "XikOXFD_YQBL",
      "execution_count": 306,
      "outputs": []
    },
    {
      "cell_type": "code",
      "source": [
        "scaled_data.describe()"
      ],
      "metadata": {
        "colab": {
          "base_uri": "https://localhost:8080/",
          "height": 337
        },
        "id": "wiZR_zD5Yd0H",
        "outputId": "3ddc260b-5429-43ff-dc4e-1924acbd185c"
      },
      "id": "wiZR_zD5Yd0H",
      "execution_count": 307,
      "outputs": [
        {
          "output_type": "execute_result",
          "data": {
            "text/plain": [
              "              Date     CarCount    BikeCount     BusCount   TruckCount  \\\n",
              "count  6324.000000  6324.000000  6324.000000  6324.000000  6324.000000   \n",
              "mean      0.501444     0.339175     0.171618     0.251157     0.310969   \n",
              "std       0.298564     0.253183     0.162342     0.246397     0.178747   \n",
              "min       0.000000     0.000000     0.000000     0.000000     0.000000   \n",
              "25%       0.233333     0.074286     0.042857     0.020000     0.166667   \n",
              "50%       0.500000     0.320000     0.128571     0.200000     0.300000   \n",
              "75%       0.766667     0.550000     0.271429     0.400000     0.450000   \n",
              "max       1.000000     1.000000     1.000000     1.000000     1.000000   \n",
              "\n",
              "             Total  Day of the week_Friday  Day of the week_Monday  \\\n",
              "count  6324.000000             6324.000000             6324.000000   \n",
              "mean      0.335600                0.131562                0.128716   \n",
              "std       0.216476                0.338041                0.334912   \n",
              "min       0.000000                0.000000                0.000000   \n",
              "25%       0.124031                0.000000                0.000000   \n",
              "50%       0.317829                0.000000                0.000000   \n",
              "75%       0.503876                0.000000                0.000000   \n",
              "max       1.000000                1.000000                1.000000   \n",
              "\n",
              "       Day of the week_Saturday  Day of the week_Sunday  \\\n",
              "count               6324.000000             6324.000000   \n",
              "mean                   0.129507                0.129032   \n",
              "std                    0.335786                0.335262   \n",
              "min                    0.000000                0.000000   \n",
              "25%                    0.000000                0.000000   \n",
              "50%                    0.000000                0.000000   \n",
              "75%                    0.000000                0.000000   \n",
              "max                    1.000000                1.000000   \n",
              "\n",
              "       Day of the week_Thursday  Day of the week_Tuesday  \\\n",
              "count               6324.000000              6324.000000   \n",
              "mean                   0.161290                 0.159867   \n",
              "std                    0.367828                 0.366512   \n",
              "min                    0.000000                 0.000000   \n",
              "25%                    0.000000                 0.000000   \n",
              "50%                    0.000000                 0.000000   \n",
              "75%                    0.000000                 0.000000   \n",
              "max                    1.000000                 1.000000   \n",
              "\n",
              "       Day of the week_Wednesday  \n",
              "count                6324.000000  \n",
              "mean                    0.160025  \n",
              "std                     0.366659  \n",
              "min                     0.000000  \n",
              "25%                     0.000000  \n",
              "50%                     0.000000  \n",
              "75%                     0.000000  \n",
              "max                     1.000000  "
            ],
            "text/html": [
              "\n",
              "  <div id=\"df-b1109a63-5f22-43fd-9bfc-5ffa27800f6b\" class=\"colab-df-container\">\n",
              "    <div>\n",
              "<style scoped>\n",
              "    .dataframe tbody tr th:only-of-type {\n",
              "        vertical-align: middle;\n",
              "    }\n",
              "\n",
              "    .dataframe tbody tr th {\n",
              "        vertical-align: top;\n",
              "    }\n",
              "\n",
              "    .dataframe thead th {\n",
              "        text-align: right;\n",
              "    }\n",
              "</style>\n",
              "<table border=\"1\" class=\"dataframe\">\n",
              "  <thead>\n",
              "    <tr style=\"text-align: right;\">\n",
              "      <th></th>\n",
              "      <th>Date</th>\n",
              "      <th>CarCount</th>\n",
              "      <th>BikeCount</th>\n",
              "      <th>BusCount</th>\n",
              "      <th>TruckCount</th>\n",
              "      <th>Total</th>\n",
              "      <th>Day of the week_Friday</th>\n",
              "      <th>Day of the week_Monday</th>\n",
              "      <th>Day of the week_Saturday</th>\n",
              "      <th>Day of the week_Sunday</th>\n",
              "      <th>Day of the week_Thursday</th>\n",
              "      <th>Day of the week_Tuesday</th>\n",
              "      <th>Day of the week_Wednesday</th>\n",
              "    </tr>\n",
              "  </thead>\n",
              "  <tbody>\n",
              "    <tr>\n",
              "      <th>count</th>\n",
              "      <td>6324.000000</td>\n",
              "      <td>6324.000000</td>\n",
              "      <td>6324.000000</td>\n",
              "      <td>6324.000000</td>\n",
              "      <td>6324.000000</td>\n",
              "      <td>6324.000000</td>\n",
              "      <td>6324.000000</td>\n",
              "      <td>6324.000000</td>\n",
              "      <td>6324.000000</td>\n",
              "      <td>6324.000000</td>\n",
              "      <td>6324.000000</td>\n",
              "      <td>6324.000000</td>\n",
              "      <td>6324.000000</td>\n",
              "    </tr>\n",
              "    <tr>\n",
              "      <th>mean</th>\n",
              "      <td>0.501444</td>\n",
              "      <td>0.339175</td>\n",
              "      <td>0.171618</td>\n",
              "      <td>0.251157</td>\n",
              "      <td>0.310969</td>\n",
              "      <td>0.335600</td>\n",
              "      <td>0.131562</td>\n",
              "      <td>0.128716</td>\n",
              "      <td>0.129507</td>\n",
              "      <td>0.129032</td>\n",
              "      <td>0.161290</td>\n",
              "      <td>0.159867</td>\n",
              "      <td>0.160025</td>\n",
              "    </tr>\n",
              "    <tr>\n",
              "      <th>std</th>\n",
              "      <td>0.298564</td>\n",
              "      <td>0.253183</td>\n",
              "      <td>0.162342</td>\n",
              "      <td>0.246397</td>\n",
              "      <td>0.178747</td>\n",
              "      <td>0.216476</td>\n",
              "      <td>0.338041</td>\n",
              "      <td>0.334912</td>\n",
              "      <td>0.335786</td>\n",
              "      <td>0.335262</td>\n",
              "      <td>0.367828</td>\n",
              "      <td>0.366512</td>\n",
              "      <td>0.366659</td>\n",
              "    </tr>\n",
              "    <tr>\n",
              "      <th>min</th>\n",
              "      <td>0.000000</td>\n",
              "      <td>0.000000</td>\n",
              "      <td>0.000000</td>\n",
              "      <td>0.000000</td>\n",
              "      <td>0.000000</td>\n",
              "      <td>0.000000</td>\n",
              "      <td>0.000000</td>\n",
              "      <td>0.000000</td>\n",
              "      <td>0.000000</td>\n",
              "      <td>0.000000</td>\n",
              "      <td>0.000000</td>\n",
              "      <td>0.000000</td>\n",
              "      <td>0.000000</td>\n",
              "    </tr>\n",
              "    <tr>\n",
              "      <th>25%</th>\n",
              "      <td>0.233333</td>\n",
              "      <td>0.074286</td>\n",
              "      <td>0.042857</td>\n",
              "      <td>0.020000</td>\n",
              "      <td>0.166667</td>\n",
              "      <td>0.124031</td>\n",
              "      <td>0.000000</td>\n",
              "      <td>0.000000</td>\n",
              "      <td>0.000000</td>\n",
              "      <td>0.000000</td>\n",
              "      <td>0.000000</td>\n",
              "      <td>0.000000</td>\n",
              "      <td>0.000000</td>\n",
              "    </tr>\n",
              "    <tr>\n",
              "      <th>50%</th>\n",
              "      <td>0.500000</td>\n",
              "      <td>0.320000</td>\n",
              "      <td>0.128571</td>\n",
              "      <td>0.200000</td>\n",
              "      <td>0.300000</td>\n",
              "      <td>0.317829</td>\n",
              "      <td>0.000000</td>\n",
              "      <td>0.000000</td>\n",
              "      <td>0.000000</td>\n",
              "      <td>0.000000</td>\n",
              "      <td>0.000000</td>\n",
              "      <td>0.000000</td>\n",
              "      <td>0.000000</td>\n",
              "    </tr>\n",
              "    <tr>\n",
              "      <th>75%</th>\n",
              "      <td>0.766667</td>\n",
              "      <td>0.550000</td>\n",
              "      <td>0.271429</td>\n",
              "      <td>0.400000</td>\n",
              "      <td>0.450000</td>\n",
              "      <td>0.503876</td>\n",
              "      <td>0.000000</td>\n",
              "      <td>0.000000</td>\n",
              "      <td>0.000000</td>\n",
              "      <td>0.000000</td>\n",
              "      <td>0.000000</td>\n",
              "      <td>0.000000</td>\n",
              "      <td>0.000000</td>\n",
              "    </tr>\n",
              "    <tr>\n",
              "      <th>max</th>\n",
              "      <td>1.000000</td>\n",
              "      <td>1.000000</td>\n",
              "      <td>1.000000</td>\n",
              "      <td>1.000000</td>\n",
              "      <td>1.000000</td>\n",
              "      <td>1.000000</td>\n",
              "      <td>1.000000</td>\n",
              "      <td>1.000000</td>\n",
              "      <td>1.000000</td>\n",
              "      <td>1.000000</td>\n",
              "      <td>1.000000</td>\n",
              "      <td>1.000000</td>\n",
              "      <td>1.000000</td>\n",
              "    </tr>\n",
              "  </tbody>\n",
              "</table>\n",
              "</div>\n",
              "    <div class=\"colab-df-buttons\">\n",
              "\n",
              "  <div class=\"colab-df-container\">\n",
              "    <button class=\"colab-df-convert\" onclick=\"convertToInteractive('df-b1109a63-5f22-43fd-9bfc-5ffa27800f6b')\"\n",
              "            title=\"Convert this dataframe to an interactive table.\"\n",
              "            style=\"display:none;\">\n",
              "\n",
              "  <svg xmlns=\"http://www.w3.org/2000/svg\" height=\"24px\" viewBox=\"0 -960 960 960\">\n",
              "    <path d=\"M120-120v-720h720v720H120Zm60-500h600v-160H180v160Zm220 220h160v-160H400v160Zm0 220h160v-160H400v160ZM180-400h160v-160H180v160Zm440 0h160v-160H620v160ZM180-180h160v-160H180v160Zm440 0h160v-160H620v160Z\"/>\n",
              "  </svg>\n",
              "    </button>\n",
              "\n",
              "  <style>\n",
              "    .colab-df-container {\n",
              "      display:flex;\n",
              "      gap: 12px;\n",
              "    }\n",
              "\n",
              "    .colab-df-convert {\n",
              "      background-color: #E8F0FE;\n",
              "      border: none;\n",
              "      border-radius: 50%;\n",
              "      cursor: pointer;\n",
              "      display: none;\n",
              "      fill: #1967D2;\n",
              "      height: 32px;\n",
              "      padding: 0 0 0 0;\n",
              "      width: 32px;\n",
              "    }\n",
              "\n",
              "    .colab-df-convert:hover {\n",
              "      background-color: #E2EBFA;\n",
              "      box-shadow: 0px 1px 2px rgba(60, 64, 67, 0.3), 0px 1px 3px 1px rgba(60, 64, 67, 0.15);\n",
              "      fill: #174EA6;\n",
              "    }\n",
              "\n",
              "    .colab-df-buttons div {\n",
              "      margin-bottom: 4px;\n",
              "    }\n",
              "\n",
              "    [theme=dark] .colab-df-convert {\n",
              "      background-color: #3B4455;\n",
              "      fill: #D2E3FC;\n",
              "    }\n",
              "\n",
              "    [theme=dark] .colab-df-convert:hover {\n",
              "      background-color: #434B5C;\n",
              "      box-shadow: 0px 1px 3px 1px rgba(0, 0, 0, 0.15);\n",
              "      filter: drop-shadow(0px 1px 2px rgba(0, 0, 0, 0.3));\n",
              "      fill: #FFFFFF;\n",
              "    }\n",
              "  </style>\n",
              "\n",
              "    <script>\n",
              "      const buttonEl =\n",
              "        document.querySelector('#df-b1109a63-5f22-43fd-9bfc-5ffa27800f6b button.colab-df-convert');\n",
              "      buttonEl.style.display =\n",
              "        google.colab.kernel.accessAllowed ? 'block' : 'none';\n",
              "\n",
              "      async function convertToInteractive(key) {\n",
              "        const element = document.querySelector('#df-b1109a63-5f22-43fd-9bfc-5ffa27800f6b');\n",
              "        const dataTable =\n",
              "          await google.colab.kernel.invokeFunction('convertToInteractive',\n",
              "                                                    [key], {});\n",
              "        if (!dataTable) return;\n",
              "\n",
              "        const docLinkHtml = 'Like what you see? Visit the ' +\n",
              "          '<a target=\"_blank\" href=https://colab.research.google.com/notebooks/data_table.ipynb>data table notebook</a>'\n",
              "          + ' to learn more about interactive tables.';\n",
              "        element.innerHTML = '';\n",
              "        dataTable['output_type'] = 'display_data';\n",
              "        await google.colab.output.renderOutput(dataTable, element);\n",
              "        const docLink = document.createElement('div');\n",
              "        docLink.innerHTML = docLinkHtml;\n",
              "        element.appendChild(docLink);\n",
              "      }\n",
              "    </script>\n",
              "  </div>\n",
              "\n",
              "\n",
              "<div id=\"df-c9cc67da-3641-4481-a1a4-781b545c9a64\">\n",
              "  <button class=\"colab-df-quickchart\" onclick=\"quickchart('df-c9cc67da-3641-4481-a1a4-781b545c9a64')\"\n",
              "            title=\"Suggest charts\"\n",
              "            style=\"display:none;\">\n",
              "\n",
              "<svg xmlns=\"http://www.w3.org/2000/svg\" height=\"24px\"viewBox=\"0 0 24 24\"\n",
              "     width=\"24px\">\n",
              "    <g>\n",
              "        <path d=\"M19 3H5c-1.1 0-2 .9-2 2v14c0 1.1.9 2 2 2h14c1.1 0 2-.9 2-2V5c0-1.1-.9-2-2-2zM9 17H7v-7h2v7zm4 0h-2V7h2v10zm4 0h-2v-4h2v4z\"/>\n",
              "    </g>\n",
              "</svg>\n",
              "  </button>\n",
              "\n",
              "<style>\n",
              "  .colab-df-quickchart {\n",
              "      --bg-color: #E8F0FE;\n",
              "      --fill-color: #1967D2;\n",
              "      --hover-bg-color: #E2EBFA;\n",
              "      --hover-fill-color: #174EA6;\n",
              "      --disabled-fill-color: #AAA;\n",
              "      --disabled-bg-color: #DDD;\n",
              "  }\n",
              "\n",
              "  [theme=dark] .colab-df-quickchart {\n",
              "      --bg-color: #3B4455;\n",
              "      --fill-color: #D2E3FC;\n",
              "      --hover-bg-color: #434B5C;\n",
              "      --hover-fill-color: #FFFFFF;\n",
              "      --disabled-bg-color: #3B4455;\n",
              "      --disabled-fill-color: #666;\n",
              "  }\n",
              "\n",
              "  .colab-df-quickchart {\n",
              "    background-color: var(--bg-color);\n",
              "    border: none;\n",
              "    border-radius: 50%;\n",
              "    cursor: pointer;\n",
              "    display: none;\n",
              "    fill: var(--fill-color);\n",
              "    height: 32px;\n",
              "    padding: 0;\n",
              "    width: 32px;\n",
              "  }\n",
              "\n",
              "  .colab-df-quickchart:hover {\n",
              "    background-color: var(--hover-bg-color);\n",
              "    box-shadow: 0 1px 2px rgba(60, 64, 67, 0.3), 0 1px 3px 1px rgba(60, 64, 67, 0.15);\n",
              "    fill: var(--button-hover-fill-color);\n",
              "  }\n",
              "\n",
              "  .colab-df-quickchart-complete:disabled,\n",
              "  .colab-df-quickchart-complete:disabled:hover {\n",
              "    background-color: var(--disabled-bg-color);\n",
              "    fill: var(--disabled-fill-color);\n",
              "    box-shadow: none;\n",
              "  }\n",
              "\n",
              "  .colab-df-spinner {\n",
              "    border: 2px solid var(--fill-color);\n",
              "    border-color: transparent;\n",
              "    border-bottom-color: var(--fill-color);\n",
              "    animation:\n",
              "      spin 1s steps(1) infinite;\n",
              "  }\n",
              "\n",
              "  @keyframes spin {\n",
              "    0% {\n",
              "      border-color: transparent;\n",
              "      border-bottom-color: var(--fill-color);\n",
              "      border-left-color: var(--fill-color);\n",
              "    }\n",
              "    20% {\n",
              "      border-color: transparent;\n",
              "      border-left-color: var(--fill-color);\n",
              "      border-top-color: var(--fill-color);\n",
              "    }\n",
              "    30% {\n",
              "      border-color: transparent;\n",
              "      border-left-color: var(--fill-color);\n",
              "      border-top-color: var(--fill-color);\n",
              "      border-right-color: var(--fill-color);\n",
              "    }\n",
              "    40% {\n",
              "      border-color: transparent;\n",
              "      border-right-color: var(--fill-color);\n",
              "      border-top-color: var(--fill-color);\n",
              "    }\n",
              "    60% {\n",
              "      border-color: transparent;\n",
              "      border-right-color: var(--fill-color);\n",
              "    }\n",
              "    80% {\n",
              "      border-color: transparent;\n",
              "      border-right-color: var(--fill-color);\n",
              "      border-bottom-color: var(--fill-color);\n",
              "    }\n",
              "    90% {\n",
              "      border-color: transparent;\n",
              "      border-bottom-color: var(--fill-color);\n",
              "    }\n",
              "  }\n",
              "</style>\n",
              "\n",
              "  <script>\n",
              "    async function quickchart(key) {\n",
              "      const quickchartButtonEl =\n",
              "        document.querySelector('#' + key + ' button');\n",
              "      quickchartButtonEl.disabled = true;  // To prevent multiple clicks.\n",
              "      quickchartButtonEl.classList.add('colab-df-spinner');\n",
              "      try {\n",
              "        const charts = await google.colab.kernel.invokeFunction(\n",
              "            'suggestCharts', [key], {});\n",
              "      } catch (error) {\n",
              "        console.error('Error during call to suggestCharts:', error);\n",
              "      }\n",
              "      quickchartButtonEl.classList.remove('colab-df-spinner');\n",
              "      quickchartButtonEl.classList.add('colab-df-quickchart-complete');\n",
              "    }\n",
              "    (() => {\n",
              "      let quickchartButtonEl =\n",
              "        document.querySelector('#df-c9cc67da-3641-4481-a1a4-781b545c9a64 button');\n",
              "      quickchartButtonEl.style.display =\n",
              "        google.colab.kernel.accessAllowed ? 'block' : 'none';\n",
              "    })();\n",
              "  </script>\n",
              "</div>\n",
              "\n",
              "    </div>\n",
              "  </div>\n"
            ],
            "application/vnd.google.colaboratory.intrinsic+json": {
              "type": "dataframe",
              "summary": "{\n  \"name\": \"scaled_data\",\n  \"rows\": 8,\n  \"fields\": [\n    {\n      \"column\": \"Date\",\n      \"properties\": {\n        \"dtype\": \"number\",\n        \"std\": 2235.704988180702,\n        \"min\": 0.0,\n        \"max\": 6324.0,\n        \"num_unique_values\": 8,\n        \"samples\": [\n          0.5014442336074214,\n          0.5,\n          6324.0\n        ],\n        \"semantic_type\": \"\",\n        \"description\": \"\"\n      }\n    },\n    {\n      \"column\": \"CarCount\",\n      \"properties\": {\n        \"dtype\": \"number\",\n        \"std\": 2235.7435436536325,\n        \"min\": 0.0,\n        \"max\": 6324.0,\n        \"num_unique_values\": 8,\n        \"samples\": [\n          0.33917502484864914,\n          0.32,\n          6324.0\n        ],\n        \"semantic_type\": \"\",\n        \"description\": \"\"\n      }\n    },\n    {\n      \"column\": \"BikeCount\",\n      \"properties\": {\n        \"dtype\": \"number\",\n        \"std\": 2235.7819215292525,\n        \"min\": 0.0,\n        \"max\": 6324.0,\n        \"num_unique_values\": 8,\n        \"samples\": [\n          0.17161832474925454,\n          0.12857142857142856,\n          6324.0\n        ],\n        \"semantic_type\": \"\",\n        \"description\": \"\"\n      }\n    },\n    {\n      \"column\": \"BusCount\",\n      \"properties\": {\n        \"dtype\": \"number\",\n        \"std\": 2235.764711318004,\n        \"min\": 0.0,\n        \"max\": 6324.0,\n        \"num_unique_values\": 8,\n        \"samples\": [\n          0.251157495256167,\n          0.2,\n          6324.0\n        ],\n        \"semantic_type\": \"\",\n        \"description\": \"\"\n      }\n    },\n    {\n      \"column\": \"TruckCount\",\n      \"properties\": {\n        \"dtype\": \"number\",\n        \"std\": 2235.7501213038554,\n        \"min\": 0.0,\n        \"max\": 6324.0,\n        \"num_unique_values\": 8,\n        \"samples\": [\n          0.31096879612059874,\n          0.3,\n          6324.0\n        ],\n        \"semantic_type\": \"\",\n        \"description\": \"\"\n      }\n    },\n    {\n      \"column\": \"Total\",\n      \"properties\": {\n        \"dtype\": \"number\",\n        \"std\": 2235.7455039134434,\n        \"min\": 0.0,\n        \"max\": 6324.0,\n        \"num_unique_values\": 8,\n        \"samples\": [\n          0.3356004442287043,\n          0.3178294573643411,\n          6324.0\n        ],\n        \"semantic_type\": \"\",\n        \"description\": \"\"\n      }\n    },\n    {\n      \"column\": \"Day of the week_Friday\",\n      \"properties\": {\n        \"dtype\": \"number\",\n        \"std\": 2235.797442229443,\n        \"min\": 0.0,\n        \"max\": 6324.0,\n        \"num_unique_values\": 5,\n        \"samples\": [\n          0.13156230234029095,\n          1.0,\n          0.3380410218851073\n        ],\n        \"semantic_type\": \"\",\n        \"description\": \"\"\n      }\n    },\n    {\n      \"column\": \"Day of the week_Monday\",\n      \"properties\": {\n        \"dtype\": \"number\",\n        \"std\": 2235.7977440267073,\n        \"min\": 0.0,\n        \"max\": 6324.0,\n        \"num_unique_values\": 5,\n        \"samples\": [\n          0.12871600253004428,\n          1.0,\n          0.3349118238742319\n        ],\n        \"semantic_type\": \"\",\n        \"description\": \"\"\n      }\n    },\n    {\n      \"column\": \"Day of the week_Saturday\",\n      \"properties\": {\n        \"dtype\": \"number\",\n        \"std\": 2235.797659924099,\n        \"min\": 0.0,\n        \"max\": 6324.0,\n        \"num_unique_values\": 5,\n        \"samples\": [\n          0.12950664136622392,\n          1.0,\n          0.33578639119151327\n        ],\n        \"semantic_type\": \"\",\n        \"description\": \"\"\n      }\n    },\n    {\n      \"column\": \"Day of the week_Sunday\",\n      \"properties\": {\n        \"dtype\": \"number\",\n        \"std\": 2235.797710360531,\n        \"min\": 0.0,\n        \"max\": 6324.0,\n        \"num_unique_values\": 5,\n        \"samples\": [\n          0.12903225806451613,\n          1.0,\n          0.3352621483500612\n        ],\n        \"semantic_type\": \"\",\n        \"description\": \"\"\n      }\n    },\n    {\n      \"column\": \"Day of the week_Thursday\",\n      \"properties\": {\n        \"dtype\": \"number\",\n        \"std\": 2235.7944364232926,\n        \"min\": 0.0,\n        \"max\": 6324.0,\n        \"num_unique_values\": 5,\n        \"samples\": [\n          0.16129032258064516,\n          1.0,\n          0.3678276072544139\n        ],\n        \"semantic_type\": \"\",\n        \"description\": \"\"\n      }\n    },\n    {\n      \"column\": \"Day of the week_Tuesday\",\n      \"properties\": {\n        \"dtype\": \"number\",\n        \"std\": 2235.794574754126,\n        \"min\": 0.0,\n        \"max\": 6324.0,\n        \"num_unique_values\": 5,\n        \"samples\": [\n          0.15986717267552183,\n          1.0,\n          0.36651180229528446\n        ],\n        \"semantic_type\": \"\",\n        \"description\": \"\"\n      }\n    },\n    {\n      \"column\": \"Day of the week_Wednesday\",\n      \"properties\": {\n        \"dtype\": \"number\",\n        \"std\": 2235.7945593584727,\n        \"min\": 0.0,\n        \"max\": 6324.0,\n        \"num_unique_values\": 5,\n        \"samples\": [\n          0.16002530044275776,\n          1.0,\n          0.3666585088536849\n        ],\n        \"semantic_type\": \"\",\n        \"description\": \"\"\n      }\n    }\n  ]\n}"
            }
          },
          "metadata": {},
          "execution_count": 307
        }
      ]
    },
    {
      "cell_type": "markdown",
      "id": "15d85221",
      "metadata": {
        "id": "15d85221"
      },
      "source": [
        "# Visualize the Data\n",
        "\n",
        "Visualizing the data helps in understanding the relationships between features and the target variable. Below are some common visualizations that can be used to gain insights into the dataset:\n",
        "\n",
        "1. **Count Plots for Categorical Features**: Use count plots to visualize the frequency of categorical features such as the `Traffic Situation`.\n",
        "\n",
        "2. **Correlation Heatmap**: Create a heatmap to visualize the correlation between numerical features and identify any strong relationships."
      ]
    },
    {
      "cell_type": "code",
      "source": [
        "sns.countplot(df['Traffic Situation'])"
      ],
      "metadata": {
        "colab": {
          "base_uri": "https://localhost:8080/",
          "height": 466
        },
        "id": "BcfD5JhASgpu",
        "outputId": "c4547530-4cbf-41ec-df87-1eee7ec974d1"
      },
      "id": "BcfD5JhASgpu",
      "execution_count": 243,
      "outputs": [
        {
          "output_type": "execute_result",
          "data": {
            "text/plain": [
              "<Axes: xlabel='count', ylabel='Traffic Situation'>"
            ]
          },
          "metadata": {},
          "execution_count": 243
        },
        {
          "output_type": "display_data",
          "data": {
            "text/plain": [
              "<Figure size 640x480 with 1 Axes>"
            ],
            "image/png": "[encoded data removed]"
          },
          "metadata": {}
        }
      ]
    },
    {
      "cell_type": "code",
      "source": [
        "sns.countplot(df['Day of the week'])"
      ],
      "metadata": {
        "colab": {
          "base_uri": "https://localhost:8080/",
          "height": 466
        },
        "id": "VcodeOAwGY5F",
        "outputId": "f3368517-93c0-4fdf-ee63-1655203a41c8"
      },
      "id": "VcodeOAwGY5F",
      "execution_count": 219,
      "outputs": [
        {
          "output_type": "execute_result",
          "data": {
            "text/plain": [
              "<Axes: xlabel='count', ylabel='Day of the week'>"
            ]
          },
          "metadata": {},
          "execution_count": 219
        },
        {
          "output_type": "display_data",
          "data": {
            "text/plain": [
              "<Figure size 640x480 with 1 Axes>"
            ],
            "image/png": "[encoded data removed]"
          },
          "metadata": {}
        }
      ]
    },
    {
      "cell_type": "code",
      "execution_count": 220,
      "id": "1c56d9ea",
      "metadata": {
        "id": "1c56d9ea",
        "colab": {
          "base_uri": "https://localhost:8080/",
          "height": 682
        },
        "outputId": "3179b613-5895-45ab-e085-c729ab767f1e"
      },
      "outputs": [
        {
          "output_type": "display_data",
          "data": {
            "text/plain": [
              "<Figure size 1000x800 with 2 Axes>"
            ],
            "image/png": "[encoded data removed]"
          },
          "metadata": {}
        }
      ],
      "source": [
        "corr = df.select_dtypes(include=['number']).corr()\n",
        "plt.figure(figsize=(10, 8))\n",
        "sns.heatmap(corr, annot=True)\n",
        "plt.show()"
      ]
    },
    {
      "cell_type": "markdown",
      "id": "2104eb8e",
      "metadata": {
        "id": "2104eb8e"
      },
      "source": [
        "# Split the Dataset\n",
        "\n",
        "1. **Define Features and Target**: Separate the dataset into features (`X`) and the target variable (`y`).\n",
        "\n",
        "2. **Train-Test Split**: Use the `train_test_split` function from `sklearn.model_selection` to split the data."
      ]
    },
    {
      "cell_type": "code",
      "source": [
        "X = scaled_data\n",
        "y = target\n",
        "\n",
        "X_train, X_test, y_train, y_test = train_test_split(X, y, test_size=0.2, random_state=42)\n"
      ],
      "metadata": {
        "id": "saXLsYCGMpEB"
      },
      "id": "saXLsYCGMpEB",
      "execution_count": 309,
      "outputs": []
    },
    {
      "cell_type": "code",
      "source": [
        "scaler = StandardScaler()\n",
        "X_train = scaler.fit_transform(X_train)\n",
        "X_test = scaler.transform(X_test)"
      ],
      "metadata": {
        "id": "wnK1kn_EPV3i"
      },
      "id": "wnK1kn_EPV3i",
      "execution_count": 310,
      "outputs": []
    },
    {
      "cell_type": "markdown",
      "id": "bdcb9a0a",
      "metadata": {
        "id": "bdcb9a0a"
      },
      "source": [
        "# Initialize and Train the Classifiers"
      ]
    },
    {
      "cell_type": "markdown",
      "id": "ea773220",
      "metadata": {
        "id": "ea773220"
      },
      "source": [
        "## Bagging\n",
        "Chose the bagging model to go with and initialize and train a the model."
      ]
    },
    {
      "cell_type": "code",
      "execution_count": 311,
      "id": "3e29fd42",
      "metadata": {
        "id": "3e29fd42",
        "colab": {
          "base_uri": "https://localhost:8080/",
          "height": 74
        },
        "outputId": "4ce559b3-0815-4b2b-e4c0-07421c178cc6"
      },
      "outputs": [
        {
          "output_type": "execute_result",
          "data": {
            "text/plain": [
              "RandomForestClassifier(random_state=42)"
            ],
            "text/html": [
              "<style>#sk-container-id-1 {color: black;}#sk-container-id-1 pre{padding: 0;}#sk-container-id-1 div.sk-toggleable {background-color: white;}#sk-container-id-1 label.sk-toggleable__label {cursor: pointer;display: block;width: 100%;margin-bottom: 0;padding: 0.3em;box-sizing: border-box;text-align: center;}#sk-container-id-1 label.sk-toggleable__label-arrow:before {content: \"▸\";float: left;margin-right: 0.25em;color: #696969;}#sk-container-id-1 label.sk-toggleable__label-arrow:hover:before {color: black;}#sk-container-id-1 div.sk-estimator:hover label.sk-toggleable__label-arrow:before {color: black;}#sk-container-id-1 div.sk-toggleable__content {max-height: 0;max-width: 0;overflow: hidden;text-align: left;background-color: #f0f8ff;}#sk-container-id-1 div.sk-toggleable__content pre {margin: 0.2em;color: black;border-radius: 0.25em;background-color: #f0f8ff;}#sk-container-id-1 input.sk-toggleable__control:checked~div.sk-toggleable__content {max-height: 200px;max-width: 100%;overflow: auto;}#sk-container-id-1 input.sk-toggleable__control:checked~label.sk-toggleable__label-arrow:before {content: \"▾\";}#sk-container-id-1 div.sk-estimator input.sk-toggleable__control:checked~label.sk-toggleable__label {background-color: #d4ebff;}#sk-container-id-1 div.sk-label input.sk-toggleable__control:checked~label.sk-toggleable__label {background-color: #d4ebff;}#sk-container-id-1 input.sk-hidden--visually {border: 0;clip: rect(1px 1px 1px 1px);clip: rect(1px, 1px, 1px, 1px);height: 1px;margin: -1px;overflow: hidden;padding: 0;position: absolute;width: 1px;}#sk-container-id-1 div.sk-estimator {font-family: monospace;background-color: #f0f8ff;border: 1px dotted black;border-radius: 0.25em;box-sizing: border-box;margin-bottom: 0.5em;}#sk-container-id-1 div.sk-estimator:hover {background-color: #d4ebff;}#sk-container-id-1 div.sk-parallel-item::after {content: \"\";width: 100%;border-bottom: 1px solid gray;flex-grow: 1;}#sk-container-id-1 div.sk-label:hover label.sk-toggleable__label {background-color: #d4ebff;}#sk-container-id-1 div.sk-serial::before {content: \"\";position: absolute;border-left: 1px solid gray;box-sizing: border-box;top: 0;bottom: 0;left: 50%;z-index: 0;}#sk-container-id-1 div.sk-serial {display: flex;flex-direction: column;align-items: center;background-color: white;padding-right: 0.2em;padding-left: 0.2em;position: relative;}#sk-container-id-1 div.sk-item {position: relative;z-index: 1;}#sk-container-id-1 div.sk-parallel {display: flex;align-items: stretch;justify-content: center;background-color: white;position: relative;}#sk-container-id-1 div.sk-item::before, #sk-container-id-1 div.sk-parallel-item::before {content: \"\";position: absolute;border-left: 1px solid gray;box-sizing: border-box;top: 0;bottom: 0;left: 50%;z-index: -1;}#sk-container-id-1 div.sk-parallel-item {display: flex;flex-direction: column;z-index: 1;position: relative;background-color: white;}#sk-container-id-1 div.sk-parallel-item:first-child::after {align-self: flex-end;width: 50%;}#sk-container-id-1 div.sk-parallel-item:last-child::after {align-self: flex-start;width: 50%;}#sk-container-id-1 div.sk-parallel-item:only-child::after {width: 0;}#sk-container-id-1 div.sk-dashed-wrapped {border: 1px dashed gray;margin: 0 0.4em 0.5em 0.4em;box-sizing: border-box;padding-bottom: 0.4em;background-color: white;}#sk-container-id-1 div.sk-label label {font-family: monospace;font-weight: bold;display: inline-block;line-height: 1.2em;}#sk-container-id-1 div.sk-label-container {text-align: center;}#sk-container-id-1 div.sk-container {/* jupyter's `normalize.less` sets `[hidden] { display: none; }` but bootstrap.min.css set `[hidden] { display: none !important; }` so we also need the `!important` here to be able to override the default hidden behavior on the sphinx rendered scikit-learn.org. See: https://github.com/scikit-learn/scikit-learn/issues/21755 */display: inline-block !important;position: relative;}#sk-container-id-1 div.sk-text-repr-fallback {display: none;}</style><div id=\"sk-container-id-1\" class=\"sk-top-container\"><div class=\"sk-text-repr-fallback\"><pre>RandomForestClassifier(random_state=42)</pre><b>In a Jupyter environment, please rerun this cell to show the HTML representation or trust the notebook. <br />On GitHub, the HTML representation is unable to render, please try loading this page with nbviewer.org.</b></div><div class=\"sk-container\" hidden><div class=\"sk-item\"><div class=\"sk-estimator sk-toggleable\"><input class=\"sk-toggleable__control sk-hidden--visually\" id=\"sk-estimator-id-1\" type=\"checkbox\" checked><label for=\"sk-estimator-id-1\" class=\"sk-toggleable__label sk-toggleable__label-arrow\">RandomForestClassifier</label><div class=\"sk-toggleable__content\"><pre>RandomForestClassifier(random_state=42)</pre></div></div></div></div></div>"
            ]
          },
          "metadata": {},
          "execution_count": 311
        }
      ],
      "source": [
        "r_forest = RandomForestClassifier(n_estimators=100, random_state=42)\n",
        "r_forest.fit(X_train, y_train)"
      ]
    },
    {
      "cell_type": "markdown",
      "id": "fb3a2438",
      "metadata": {
        "id": "fb3a2438"
      },
      "source": [
        "### Evaluate the model performance"
      ]
    },
    {
      "cell_type": "code",
      "execution_count": 312,
      "id": "38d965b4",
      "metadata": {
        "id": "38d965b4",
        "colab": {
          "base_uri": "https://localhost:8080/"
        },
        "outputId": "b4f97cfa-ed56-4881-f2c0-10214bf0290a"
      },
      "outputs": [
        {
          "output_type": "stream",
          "name": "stdout",
          "text": [
            "Accuracy: 89.96%\n",
            "              precision    recall  f1-score   support\n",
            "\n",
            "           0       1.00      1.00      1.00       220\n",
            "           1       0.79      0.78      0.79       102\n",
            "           2       0.69      0.79      0.74       149\n",
            "           3       0.93      0.91      0.92       794\n",
            "\n",
            "    accuracy                           0.90      1265\n",
            "   macro avg       0.85      0.87      0.86      1265\n",
            "weighted avg       0.90      0.90      0.90      1265\n",
            "\n"
          ]
        }
      ],
      "source": [
        "y_pred = r_forest.predict(X_test)\n",
        "accuracy = accuracy_score(y_test, y_pred)\n",
        "print(f\"Accuracy: {accuracy:.2%}\")\n",
        "print(classification_report(y_test, y_pred))"
      ]
    },
    {
      "cell_type": "markdown",
      "id": "1790e79e",
      "metadata": {
        "id": "1790e79e"
      },
      "source": [
        "## Boosting\n",
        "Chose the Boosting model to go with and initialize and train a the model."
      ]
    },
    {
      "cell_type": "code",
      "execution_count": 313,
      "id": "bd8ef061",
      "metadata": {
        "id": "bd8ef061",
        "colab": {
          "base_uri": "https://localhost:8080/",
          "height": 248
        },
        "outputId": "4bc4cfd3-891f-43cd-9bee-c6cd4b7bce82"
      },
      "outputs": [
        {
          "output_type": "execute_result",
          "data": {
            "text/plain": [
              "XGBClassifier(base_score=None, booster=None, callbacks=None,\n",
              "              colsample_bylevel=None, colsample_bynode=None,\n",
              "              colsample_bytree=None, device=None, early_stopping_rounds=None,\n",
              "              enable_categorical=False, eval_metric=None, feature_types=None,\n",
              "              gamma=None, grow_policy=None, importance_type=None,\n",
              "              interaction_constraints=None, learning_rate=0.1, max_bin=None,\n",
              "              max_cat_threshold=None, max_cat_to_onehot=None,\n",
              "              max_delta_step=None, max_depth=3, max_leaves=None,\n",
              "              min_child_weight=None, missing=nan, monotone_constraints=None,\n",
              "              multi_strategy=None, n_estimators=100, n_jobs=None,\n",
              "              num_parallel_tree=None, objective='multi:softprob', ...)"
            ],
            "text/html": [
              "<style>#sk-container-id-2 {color: black;}#sk-container-id-2 pre{padding: 0;}#sk-container-id-2 div.sk-toggleable {background-color: white;}#sk-container-id-2 label.sk-toggleable__label {cursor: pointer;display: block;width: 100%;margin-bottom: 0;padding: 0.3em;box-sizing: border-box;text-align: center;}#sk-container-id-2 label.sk-toggleable__label-arrow:before {content: \"▸\";float: left;margin-right: 0.25em;color: #696969;}#sk-container-id-2 label.sk-toggleable__label-arrow:hover:before {color: black;}#sk-container-id-2 div.sk-estimator:hover label.sk-toggleable__label-arrow:before {color: black;}#sk-container-id-2 div.sk-toggleable__content {max-height: 0;max-width: 0;overflow: hidden;text-align: left;background-color: #f0f8ff;}#sk-container-id-2 div.sk-toggleable__content pre {margin: 0.2em;color: black;border-radius: 0.25em;background-color: #f0f8ff;}#sk-container-id-2 input.sk-toggleable__control:checked~div.sk-toggleable__content {max-height: 200px;max-width: 100%;overflow: auto;}#sk-container-id-2 input.sk-toggleable__control:checked~label.sk-toggleable__label-arrow:before {content: \"▾\";}#sk-container-id-2 div.sk-estimator input.sk-toggleable__control:checked~label.sk-toggleable__label {background-color: #d4ebff;}#sk-container-id-2 div.sk-label input.sk-toggleable__control:checked~label.sk-toggleable__label {background-color: #d4ebff;}#sk-container-id-2 input.sk-hidden--visually {border: 0;clip: rect(1px 1px 1px 1px);clip: rect(1px, 1px, 1px, 1px);height: 1px;margin: -1px;overflow: hidden;padding: 0;position: absolute;width: 1px;}#sk-container-id-2 div.sk-estimator {font-family: monospace;background-color: #f0f8ff;border: 1px dotted black;border-radius: 0.25em;box-sizing: border-box;margin-bottom: 0.5em;}#sk-container-id-2 div.sk-estimator:hover {background-color: #d4ebff;}#sk-container-id-2 div.sk-parallel-item::after {content: \"\";width: 100%;border-bottom: 1px solid gray;flex-grow: 1;}#sk-container-id-2 div.sk-label:hover label.sk-toggleable__label {background-color: #d4ebff;}#sk-container-id-2 div.sk-serial::before {content: \"\";position: absolute;border-left: 1px solid gray;box-sizing: border-box;top: 0;bottom: 0;left: 50%;z-index: 0;}#sk-container-id-2 div.sk-serial {display: flex;flex-direction: column;align-items: center;background-color: white;padding-right: 0.2em;padding-left: 0.2em;position: relative;}#sk-container-id-2 div.sk-item {position: relative;z-index: 1;}#sk-container-id-2 div.sk-parallel {display: flex;align-items: stretch;justify-content: center;background-color: white;position: relative;}#sk-container-id-2 div.sk-item::before, #sk-container-id-2 div.sk-parallel-item::before {content: \"\";position: absolute;border-left: 1px solid gray;box-sizing: border-box;top: 0;bottom: 0;left: 50%;z-index: -1;}#sk-container-id-2 div.sk-parallel-item {display: flex;flex-direction: column;z-index: 1;position: relative;background-color: white;}#sk-container-id-2 div.sk-parallel-item:first-child::after {align-self: flex-end;width: 50%;}#sk-container-id-2 div.sk-parallel-item:last-child::after {align-self: flex-start;width: 50%;}#sk-container-id-2 div.sk-parallel-item:only-child::after {width: 0;}#sk-container-id-2 div.sk-dashed-wrapped {border: 1px dashed gray;margin: 0 0.4em 0.5em 0.4em;box-sizing: border-box;padding-bottom: 0.4em;background-color: white;}#sk-container-id-2 div.sk-label label {font-family: monospace;font-weight: bold;display: inline-block;line-height: 1.2em;}#sk-container-id-2 div.sk-label-container {text-align: center;}#sk-container-id-2 div.sk-container {/* jupyter's `normalize.less` sets `[hidden] { display: none; }` but bootstrap.min.css set `[hidden] { display: none !important; }` so we also need the `!important` here to be able to override the default hidden behavior on the sphinx rendered scikit-learn.org. See: https://github.com/scikit-learn/scikit-learn/issues/21755 */display: inline-block !important;position: relative;}#sk-container-id-2 div.sk-text-repr-fallback {display: none;}</style><div id=\"sk-container-id-2\" class=\"sk-top-container\"><div class=\"sk-text-repr-fallback\"><pre>XGBClassifier(base_score=None, booster=None, callbacks=None,\n",
              "              colsample_bylevel=None, colsample_bynode=None,\n",
              "              colsample_bytree=None, device=None, early_stopping_rounds=None,\n",
              "              enable_categorical=False, eval_metric=None, feature_types=None,\n",
              "              gamma=None, grow_policy=None, importance_type=None,\n",
              "              interaction_constraints=None, learning_rate=0.1, max_bin=None,\n",
              "              max_cat_threshold=None, max_cat_to_onehot=None,\n",
              "              max_delta_step=None, max_depth=3, max_leaves=None,\n",
              "              min_child_weight=None, missing=nan, monotone_constraints=None,\n",
              "              multi_strategy=None, n_estimators=100, n_jobs=None,\n",
              "              num_parallel_tree=None, objective=&#x27;multi:softprob&#x27;, ...)</pre><b>In a Jupyter environment, please rerun this cell to show the HTML representation or trust the notebook. <br />On GitHub, the HTML representation is unable to render, please try loading this page with nbviewer.org.</b></div><div class=\"sk-container\" hidden><div class=\"sk-item\"><div class=\"sk-estimator sk-toggleable\"><input class=\"sk-toggleable__control sk-hidden--visually\" id=\"sk-estimator-id-2\" type=\"checkbox\" checked><label for=\"sk-estimator-id-2\" class=\"sk-toggleable__label sk-toggleable__label-arrow\">XGBClassifier</label><div class=\"sk-toggleable__content\"><pre>XGBClassifier(base_score=None, booster=None, callbacks=None,\n",
              "              colsample_bylevel=None, colsample_bynode=None,\n",
              "              colsample_bytree=None, device=None, early_stopping_rounds=None,\n",
              "              enable_categorical=False, eval_metric=None, feature_types=None,\n",
              "              gamma=None, grow_policy=None, importance_type=None,\n",
              "              interaction_constraints=None, learning_rate=0.1, max_bin=None,\n",
              "              max_cat_threshold=None, max_cat_to_onehot=None,\n",
              "              max_delta_step=None, max_depth=3, max_leaves=None,\n",
              "              min_child_weight=None, missing=nan, monotone_constraints=None,\n",
              "              multi_strategy=None, n_estimators=100, n_jobs=None,\n",
              "              num_parallel_tree=None, objective=&#x27;multi:softprob&#x27;, ...)</pre></div></div></div></div></div>"
            ]
          },
          "metadata": {},
          "execution_count": 313
        }
      ],
      "source": [
        "xgboost = XGBClassifier(n_estimators=100, max_depth=3, learning_rate=0.1 ,random_state=42)\n",
        "xgboost.fit(X_train, y_train)"
      ]
    },
    {
      "cell_type": "markdown",
      "id": "6646ab65",
      "metadata": {
        "id": "6646ab65"
      },
      "source": [
        "### Evaluate the model performance"
      ]
    },
    {
      "cell_type": "code",
      "execution_count": 314,
      "id": "d9915c9c",
      "metadata": {
        "id": "d9915c9c",
        "colab": {
          "base_uri": "https://localhost:8080/"
        },
        "outputId": "13d7ab46-de13-433d-fe78-9aefe0211989"
      },
      "outputs": [
        {
          "output_type": "stream",
          "name": "stdout",
          "text": [
            "Accuracy: 89.96%\n",
            "              precision    recall  f1-score   support\n",
            "\n",
            "           0       1.00      1.00      1.00       220\n",
            "           1       0.79      0.78      0.79       102\n",
            "           2       0.69      0.79      0.74       149\n",
            "           3       0.93      0.91      0.92       794\n",
            "\n",
            "    accuracy                           0.90      1265\n",
            "   macro avg       0.85      0.87      0.86      1265\n",
            "weighted avg       0.90      0.90      0.90      1265\n",
            "\n"
          ]
        }
      ],
      "source": [
        "y_pred = r_forest.predict(X_test)\n",
        "accuracy = accuracy_score(y_test, y_pred)\n",
        "print(f\"Accuracy: {accuracy:.2%}\")\n",
        "print(classification_report(y_test, y_pred))"
      ]
    },
    {
      "cell_type": "markdown",
      "id": "fc2255c5",
      "metadata": {
        "id": "fc2255c5"
      },
      "source": [
        "## Stacking Classifier\n",
        "Combine the previous classifiers as the base models using a Stacking Classifier."
      ]
    },
    {
      "cell_type": "code",
      "execution_count": 315,
      "id": "23b6f377",
      "metadata": {
        "id": "23b6f377"
      },
      "outputs": [],
      "source": [
        "estimators = [\n",
        "    ('random_forest', r_forest),\n",
        "    ('xgboost', xgboost)\n",
        "]"
      ]
    },
    {
      "cell_type": "markdown",
      "id": "cb295dff",
      "metadata": {
        "id": "cb295dff"
      },
      "source": [
        "### Define meta-learner (LogisticRegression)"
      ]
    },
    {
      "cell_type": "code",
      "execution_count": 316,
      "id": "7b4eb2a7",
      "metadata": {
        "id": "7b4eb2a7"
      },
      "outputs": [],
      "source": [
        "log_reg = LogisticRegression()\n",
        "stacking = StackingClassifier(estimators=estimators, final_estimator=log_reg,cv=5)"
      ]
    },
    {
      "cell_type": "markdown",
      "id": "0f74e88d",
      "metadata": {
        "id": "0f74e88d"
      },
      "source": [
        "### Initialize and Train the Stacking Classifier\n",
        "\n",
        "Stacking combines multiple models (base learners) using a meta-learner. The meta-learner is trained on the predictions of the base learners to make the final prediction."
      ]
    },
    {
      "cell_type": "code",
      "execution_count": 317,
      "id": "c53f148a",
      "metadata": {
        "id": "c53f148a",
        "colab": {
          "base_uri": "https://localhost:8080/",
          "height": 161
        },
        "outputId": "2cfe3691-e3dc-4b31-a78e-18e3da3fa075"
      },
      "outputs": [
        {
          "output_type": "execute_result",
          "data": {
            "text/plain": [
              "StackingClassifier(cv=5,\n",
              "                   estimators=[('random_forest',\n",
              "                                RandomForestClassifier(random_state=42)),\n",
              "                               ('xgboost',\n",
              "                                XGBClassifier(base_score=None, booster=None,\n",
              "                                              callbacks=None,\n",
              "                                              colsample_bylevel=None,\n",
              "                                              colsample_bynode=None,\n",
              "                                              colsample_bytree=None,\n",
              "                                              device=None,\n",
              "                                              early_stopping_rounds=None,\n",
              "                                              enable_categorical=False,\n",
              "                                              eval_metric=None,\n",
              "                                              feature_types=None, gamma=None,\n",
              "                                              grow_poli...\n",
              "                                              interaction_constraints=None,\n",
              "                                              learning_rate=0.1, max_bin=None,\n",
              "                                              max_cat_threshold=None,\n",
              "                                              max_cat_to_onehot=None,\n",
              "                                              max_delta_step=None, max_depth=3,\n",
              "                                              max_leaves=None,\n",
              "                                              min_child_weight=None,\n",
              "                                              missing=nan,\n",
              "                                              monotone_constraints=None,\n",
              "                                              multi_strategy=None,\n",
              "                                              n_estimators=100, n_jobs=None,\n",
              "                                              num_parallel_tree=None,\n",
              "                                              objective='multi:softprob', ...))],\n",
              "                   final_estimator=LogisticRegression())"
            ],
            "text/html": [
              "<style>#sk-container-id-3 {color: black;}#sk-container-id-3 pre{padding: 0;}#sk-container-id-3 div.sk-toggleable {background-color: white;}#sk-container-id-3 label.sk-toggleable__label {cursor: pointer;display: block;width: 100%;margin-bottom: 0;padding: 0.3em;box-sizing: border-box;text-align: center;}#sk-container-id-3 label.sk-toggleable__label-arrow:before {content: \"▸\";float: left;margin-right: 0.25em;color: #696969;}#sk-container-id-3 label.sk-toggleable__label-arrow:hover:before {color: black;}#sk-container-id-3 div.sk-estimator:hover label.sk-toggleable__label-arrow:before {color: black;}#sk-container-id-3 div.sk-toggleable__content {max-height: 0;max-width: 0;overflow: hidden;text-align: left;background-color: #f0f8ff;}#sk-container-id-3 div.sk-toggleable__content pre {margin: 0.2em;color: black;border-radius: 0.25em;background-color: #f0f8ff;}#sk-container-id-3 input.sk-toggleable__control:checked~div.sk-toggleable__content {max-height: 200px;max-width: 100%;overflow: auto;}#sk-container-id-3 input.sk-toggleable__control:checked~label.sk-toggleable__label-arrow:before {content: \"▾\";}#sk-container-id-3 div.sk-estimator input.sk-toggleable__control:checked~label.sk-toggleable__label {background-color: #d4ebff;}#sk-container-id-3 div.sk-label input.sk-toggleable__control:checked~label.sk-toggleable__label {background-color: #d4ebff;}#sk-container-id-3 input.sk-hidden--visually {border: 0;clip: rect(1px 1px 1px 1px);clip: rect(1px, 1px, 1px, 1px);height: 1px;margin: -1px;overflow: hidden;padding: 0;position: absolute;width: 1px;}#sk-container-id-3 div.sk-estimator {font-family: monospace;background-color: #f0f8ff;border: 1px dotted black;border-radius: 0.25em;box-sizing: border-box;margin-bottom: 0.5em;}#sk-container-id-3 div.sk-estimator:hover {background-color: #d4ebff;}#sk-container-id-3 div.sk-parallel-item::after {content: \"\";width: 100%;border-bottom: 1px solid gray;flex-grow: 1;}#sk-container-id-3 div.sk-label:hover label.sk-toggleable__label {background-color: #d4ebff;}#sk-container-id-3 div.sk-serial::before {content: \"\";position: absolute;border-left: 1px solid gray;box-sizing: border-box;top: 0;bottom: 0;left: 50%;z-index: 0;}#sk-container-id-3 div.sk-serial {display: flex;flex-direction: column;align-items: center;background-color: white;padding-right: 0.2em;padding-left: 0.2em;position: relative;}#sk-container-id-3 div.sk-item {position: relative;z-index: 1;}#sk-container-id-3 div.sk-parallel {display: flex;align-items: stretch;justify-content: center;background-color: white;position: relative;}#sk-container-id-3 div.sk-item::before, #sk-container-id-3 div.sk-parallel-item::before {content: \"\";position: absolute;border-left: 1px solid gray;box-sizing: border-box;top: 0;bottom: 0;left: 50%;z-index: -1;}#sk-container-id-3 div.sk-parallel-item {display: flex;flex-direction: column;z-index: 1;position: relative;background-color: white;}#sk-container-id-3 div.sk-parallel-item:first-child::after {align-self: flex-end;width: 50%;}#sk-container-id-3 div.sk-parallel-item:last-child::after {align-self: flex-start;width: 50%;}#sk-container-id-3 div.sk-parallel-item:only-child::after {width: 0;}#sk-container-id-3 div.sk-dashed-wrapped {border: 1px dashed gray;margin: 0 0.4em 0.5em 0.4em;box-sizing: border-box;padding-bottom: 0.4em;background-color: white;}#sk-container-id-3 div.sk-label label {font-family: monospace;font-weight: bold;display: inline-block;line-height: 1.2em;}#sk-container-id-3 div.sk-label-container {text-align: center;}#sk-container-id-3 div.sk-container {/* jupyter's `normalize.less` sets `[hidden] { display: none; }` but bootstrap.min.css set `[hidden] { display: none !important; }` so we also need the `!important` here to be able to override the default hidden behavior on the sphinx rendered scikit-learn.org. See: https://github.com/scikit-learn/scikit-learn/issues/21755 */display: inline-block !important;position: relative;}#sk-container-id-3 div.sk-text-repr-fallback {display: none;}</style><div id=\"sk-container-id-3\" class=\"sk-top-container\"><div class=\"sk-text-repr-fallback\"><pre>StackingClassifier(cv=5,\n",
              "                   estimators=[(&#x27;random_forest&#x27;,\n",
              "                                RandomForestClassifier(random_state=42)),\n",
              "                               (&#x27;xgboost&#x27;,\n",
              "                                XGBClassifier(base_score=None, booster=None,\n",
              "                                              callbacks=None,\n",
              "                                              colsample_bylevel=None,\n",
              "                                              colsample_bynode=None,\n",
              "                                              colsample_bytree=None,\n",
              "                                              device=None,\n",
              "                                              early_stopping_rounds=None,\n",
              "                                              enable_categorical=False,\n",
              "                                              eval_metric=None,\n",
              "                                              feature_types=None, gamma=None,\n",
              "                                              grow_poli...\n",
              "                                              interaction_constraints=None,\n",
              "                                              learning_rate=0.1, max_bin=None,\n",
              "                                              max_cat_threshold=None,\n",
              "                                              max_cat_to_onehot=None,\n",
              "                                              max_delta_step=None, max_depth=3,\n",
              "                                              max_leaves=None,\n",
              "                                              min_child_weight=None,\n",
              "                                              missing=nan,\n",
              "                                              monotone_constraints=None,\n",
              "                                              multi_strategy=None,\n",
              "                                              n_estimators=100, n_jobs=None,\n",
              "                                              num_parallel_tree=None,\n",
              "                                              objective=&#x27;multi:softprob&#x27;, ...))],\n",
              "                   final_estimator=LogisticRegression())</pre><b>In a Jupyter environment, please rerun this cell to show the HTML representation or trust the notebook. <br />On GitHub, the HTML representation is unable to render, please try loading this page with nbviewer.org.</b></div><div class=\"sk-container\" hidden><div class=\"sk-item sk-dashed-wrapped\"><div class=\"sk-label-container\"><div class=\"sk-label sk-toggleable\"><input class=\"sk-toggleable__control sk-hidden--visually\" id=\"sk-estimator-id-3\" type=\"checkbox\" ><label for=\"sk-estimator-id-3\" class=\"sk-toggleable__label sk-toggleable__label-arrow\">StackingClassifier</label><div class=\"sk-toggleable__content\"><pre>StackingClassifier(cv=5,\n",
              "                   estimators=[(&#x27;random_forest&#x27;,\n",
              "                                RandomForestClassifier(random_state=42)),\n",
              "                               (&#x27;xgboost&#x27;,\n",
              "                                XGBClassifier(base_score=None, booster=None,\n",
              "                                              callbacks=None,\n",
              "                                              colsample_bylevel=None,\n",
              "                                              colsample_bynode=None,\n",
              "                                              colsample_bytree=None,\n",
              "                                              device=None,\n",
              "                                              early_stopping_rounds=None,\n",
              "                                              enable_categorical=False,\n",
              "                                              eval_metric=None,\n",
              "                                              feature_types=None, gamma=None,\n",
              "                                              grow_poli...\n",
              "                                              interaction_constraints=None,\n",
              "                                              learning_rate=0.1, max_bin=None,\n",
              "                                              max_cat_threshold=None,\n",
              "                                              max_cat_to_onehot=None,\n",
              "                                              max_delta_step=None, max_depth=3,\n",
              "                                              max_leaves=None,\n",
              "                                              min_child_weight=None,\n",
              "                                              missing=nan,\n",
              "                                              monotone_constraints=None,\n",
              "                                              multi_strategy=None,\n",
              "                                              n_estimators=100, n_jobs=None,\n",
              "                                              num_parallel_tree=None,\n",
              "                                              objective=&#x27;multi:softprob&#x27;, ...))],\n",
              "                   final_estimator=LogisticRegression())</pre></div></div></div><div class=\"sk-serial\"><div class=\"sk-item\"><div class=\"sk-parallel\"><div class=\"sk-parallel-item\"><div class=\"sk-item\"><div class=\"sk-label-container\"><div class=\"sk-label sk-toggleable\"><label>random_forest</label></div></div><div class=\"sk-serial\"><div class=\"sk-item\"><div class=\"sk-estimator sk-toggleable\"><input class=\"sk-toggleable__control sk-hidden--visually\" id=\"sk-estimator-id-4\" type=\"checkbox\" ><label for=\"sk-estimator-id-4\" class=\"sk-toggleable__label sk-toggleable__label-arrow\">RandomForestClassifier</label><div class=\"sk-toggleable__content\"><pre>RandomForestClassifier(random_state=42)</pre></div></div></div></div></div></div><div class=\"sk-parallel-item\"><div class=\"sk-item\"><div class=\"sk-label-container\"><div class=\"sk-label sk-toggleable\"><label>xgboost</label></div></div><div class=\"sk-serial\"><div class=\"sk-item\"><div class=\"sk-estimator sk-toggleable\"><input class=\"sk-toggleable__control sk-hidden--visually\" id=\"sk-estimator-id-5\" type=\"checkbox\" ><label for=\"sk-estimator-id-5\" class=\"sk-toggleable__label sk-toggleable__label-arrow\">XGBClassifier</label><div class=\"sk-toggleable__content\"><pre>XGBClassifier(base_score=None, booster=None, callbacks=None,\n",
              "              colsample_bylevel=None, colsample_bynode=None,\n",
              "              colsample_bytree=None, device=None, early_stopping_rounds=None,\n",
              "              enable_categorical=False, eval_metric=None, feature_types=None,\n",
              "              gamma=None, grow_policy=None, importance_type=None,\n",
              "              interaction_constraints=None, learning_rate=0.1, max_bin=None,\n",
              "              max_cat_threshold=None, max_cat_to_onehot=None,\n",
              "              max_delta_step=None, max_depth=3, max_leaves=None,\n",
              "              min_child_weight=None, missing=nan, monotone_constraints=None,\n",
              "              multi_strategy=None, n_estimators=100, n_jobs=None,\n",
              "              num_parallel_tree=None, objective=&#x27;multi:softprob&#x27;, ...)</pre></div></div></div></div></div></div></div></div><div class=\"sk-item\"><div class=\"sk-parallel\"><div class=\"sk-parallel-item\"><div class=\"sk-item\"><div class=\"sk-label-container\"><div class=\"sk-label sk-toggleable\"><label>final_estimator</label></div></div><div class=\"sk-serial\"><div class=\"sk-item\"><div class=\"sk-estimator sk-toggleable\"><input class=\"sk-toggleable__control sk-hidden--visually\" id=\"sk-estimator-id-6\" type=\"checkbox\" ><label for=\"sk-estimator-id-6\" class=\"sk-toggleable__label sk-toggleable__label-arrow\">LogisticRegression</label><div class=\"sk-toggleable__content\"><pre>LogisticRegression()</pre></div></div></div></div></div></div></div></div></div></div></div></div>"
            ]
          },
          "metadata": {},
          "execution_count": 317
        }
      ],
      "source": [
        "stacking.fit(X_train, y_train)"
      ]
    },
    {
      "cell_type": "markdown",
      "id": "d24a1137",
      "metadata": {
        "id": "d24a1137"
      },
      "source": [
        "### Evaluate the model performance"
      ]
    },
    {
      "cell_type": "code",
      "execution_count": 318,
      "id": "4cd40cf6",
      "metadata": {
        "id": "4cd40cf6",
        "colab": {
          "base_uri": "https://localhost:8080/"
        },
        "outputId": "16a68cc5-38f6-4c65-db5f-b7ab31107abe"
      },
      "outputs": [
        {
          "output_type": "stream",
          "name": "stdout",
          "text": [
            "Accuracy:\t97.55%\n",
            "Classification Report:\n",
            "              precision    recall  f1-score   support\n",
            "\n",
            "           0       1.00      1.00      1.00       220\n",
            "           1       0.98      0.89      0.93       102\n",
            "           2       0.92      0.97      0.94       149\n",
            "           3       0.98      0.98      0.98       794\n",
            "\n",
            "    accuracy                           0.98      1265\n",
            "   macro avg       0.97      0.96      0.96      1265\n",
            "weighted avg       0.98      0.98      0.98      1265\n",
            "\n"
          ]
        }
      ],
      "source": [
        "y_pred = stacking.predict(X_test)\n",
        "stacking_acc = accuracy_score(y_test, y_pred)\n",
        "stacking_classif = classification_report(y_test, y_pred)\n",
        "print(f\"Accuracy:\\t{stacking_acc:.2%}\")\n",
        "print(f\"Classification Report:\\n{stacking_classif}\")"
      ]
    },
    {
      "cell_type": "markdown",
      "id": "4129f6a0",
      "metadata": {
        "id": "4129f6a0"
      },
      "source": [
        "# Notebook Questions:\n",
        "\n",
        "After completing the tasks in this notebook, take some time to reflect on the work you have done and answer the following questions. These questions are designed to help you think critically about the steps you took and the decisions you made.\n",
        "\n",
        "* **Feature Selection and Engineering**\n",
        "   - Which features did you find most important for predicting churn, and why do you think they are significant?\n",
        "   - Did you perform any feature engineering? If so, what new features did you create, and how did they improve the model performance?\n",
        "\n",
        "* **Model Selection**\n",
        "   - Why did you choose the specific ensemble methods you implemented? What are the advantages of using ensemble methods over single models?\n",
        "   - Compare the performance of different models you used. Which model performed the best, and what do you think contributed to its success?\n",
        "\n",
        "* **Model Evaluation**\n",
        "   - Which evaluation metrics did you use to assess the model performance, and why? What insights did these metrics provide about the models' strengths and weaknesses?\n"
      ]
    },
    {
      "cell_type": "markdown",
      "id": "5a4dd465",
      "metadata": {
        "id": "5a4dd465"
      },
      "source": [
        "# Answer here:"
      ]
    },
    {
      "cell_type": "markdown",
      "id": "e3f6bf58",
      "metadata": {
        "id": "e3f6bf58"
      },
      "source": [
        "* **Feature Selection and Engineering**\n",
        "based on the heatmap it was the 'total'\n",
        "* **Model Selection**\n",
        "   for ensemble methods i used (randomforest ,xgboost ,stacking)\n",
        "   using stacked help improving the accuracy\n",
        "\n",
        "* **Model Evaluation**\n",
        "   evaluation metrics used (accuracy_score ,classification_report)\n",
        "   and the next accuracy outputs:\n",
        "\n",
        "   1- LogisticRegression -> 0.90\n",
        "\n",
        "   2- XGBoost -> 0.90\n",
        "   \n",
        "   3- Stacking -> 0.98\n"
      ]
    }
  ],
  "metadata": {
    "colab": {
      "provenance": []
    },
    "language_info": {
      "name": "python"
    },
    "kernelspec": {
      "name": "python3",
      "display_name": "Python 3"
    }
  },
  "nbformat": 4,
  "nbformat_minor": 5
}